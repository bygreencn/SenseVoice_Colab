{
  "cells": [
    {
      "cell_type": "code",
      "execution_count": null,
      "metadata": {
        "id": "cZUg1t1WnYGg"
      },
      "outputs": [],
      "source": [
        "!git clone https://github.com/FunAudioLLM/SenseVoice.git"
      ]
    },
    {
      "cell_type": "code",
      "execution_count": null,
      "metadata": {
        "id": "LfOnupzNnm8G"
      },
      "outputs": [],
      "source": [
        "!cd SenseVoice && pip install -r requirements.txt"
      ]
    },
    {
      "cell_type": "code",
      "execution_count": null,
      "metadata": {
        "id": "0fQGFtYSx2YW"
      },
      "outputs": [],
      "source": [
        "!pip install -U funasr funasr-onnx"
      ]
    },
    {
      "cell_type": "code",
      "source": [
        "!git clone https://huggingface.co/funasr/FSMN-VAD"
      ],
      "metadata": {
        "id": "Fb1KRdHAPpwh"
      },
      "execution_count": null,
      "outputs": []
    },
    {
      "cell_type": "markdown",
      "source": [
        "# **Run Demo**"
      ],
      "metadata": {
        "id": "Z8kbgwN29Uip"
      }
    },
    {
      "cell_type": "code",
      "execution_count": 5,
      "metadata": {
        "id": "7fmwL4Lpn_Rw",
        "colab": {
          "base_uri": "https://localhost:8080/"
        },
        "outputId": "0c521299-6dd5-45fe-9eb3-26d5fad06bc3"
      },
      "outputs": [
        {
          "output_type": "stream",
          "name": "stdout",
          "text": [
            "funasr version: 1.1.6.\n",
            "Check update of funasr, and it would cost few times. You may disable it by set `disable_update=True` in AutoModel\n",
            "You are using the latest version of funasr-1.1.6\n"
          ]
        },
        {
          "output_type": "stream",
          "name": "stderr",
          "text": [
            "2024-08-27 04:15:22,139 - modelscope - WARNING - Using branch: master as version is unstable, use with caution\n",
            "Downloading: 100%|██████████| 6.00k/6.00k [00:00<00:00, 6.26kB/s]\n",
            "Downloading: 100%|██████████| 116k/116k [00:01<00:00, 111kB/s]\n",
            "Downloading: 100%|██████████| 10.9k/10.9k [00:00<00:00, 12.4kB/s]\n",
            "Downloading: 100%|██████████| 238k/238k [00:00<00:00, 265kB/s]\n",
            "Downloading: 100%|██████████| 368k/368k [00:01<00:00, 374kB/s]\n",
            "Downloading: 100%|██████████| 1.81k/1.81k [00:00<00:00, 2.00kB/s]\n",
            "Downloading: 100%|██████████| 396/396 [00:00<00:00, 477B/s]\n",
            "Downloading: 100%|██████████| 56.1k/56.1k [00:00<00:00, 65.6kB/s]\n",
            "Downloading: 100%|██████████| 935k/935k [00:00<00:00, 979kB/s]\n",
            "Downloading: 100%|██████████| 56.5k/56.5k [00:00<00:00, 63.5kB/s]\n",
            "Downloading: 100%|██████████| 27.3k/27.3k [00:00<00:00, 37.6kB/s]\n",
            "Downloading: 100%|██████████| 893M/893M [00:07<00:00, 123MB/s] \n",
            "Downloading: 100%|██████████| 9.09k/9.09k [00:01<00:00, 7.29kB/s]\n",
            "Downloading: 100%|██████████| 880k/880k [00:01<00:00, 817kB/s]\n",
            "Downloading: 100%|██████████| 194k/194k [00:01<00:00, 194kB/s]\n",
            "Downloading: 100%|██████████| 318k/318k [00:01<00:00, 317kB/s]\n",
            "Downloading: 100%|██████████| 30.5k/30.5k [00:01<00:00, 23.2kB/s]\n",
            "Downloading: 100%|██████████| 43.9k/43.9k [00:00<00:00, 60.3kB/s]\n"
          ]
        },
        {
          "output_type": "stream",
          "name": "stdout",
          "text": [
            "Loading remote code failed: ./model.py, No module named 'model'\n"
          ]
        },
        {
          "output_type": "stream",
          "name": "stderr",
          "text": [
            "2024-08-27 04:16:01,695 - modelscope - WARNING - Using branch: master as version is unstable, use with caution\n",
            "Downloading: 100%|██████████| 7.85k/7.85k [00:00<00:00, 8.96kB/s]\n",
            "Downloading: 100%|██████████| 1.19k/1.19k [00:00<00:00, 1.50kB/s]\n",
            "Downloading: 100%|██████████| 365/365 [00:00<00:00, 447B/s]\n",
            "Downloading: 100%|██████████| 1.64M/1.64M [00:01<00:00, 1.65MB/s]\n",
            "Downloading: 100%|██████████| 10.6k/10.6k [00:00<00:00, 10.9kB/s]\n",
            "Downloading: 100%|██████████| 27.3k/27.3k [00:00<00:00, 28.4kB/s]\n",
            "Downloading: 100%|██████████| 2.16M/2.16M [00:00<00:00, 2.46MB/s]\n",
            "rtf_avg: 0.028: 100%|\u001b[34m██████████\u001b[0m| 1/1 [00:00<00:00,  4.76it/s]\n",
            "  0%|\u001b[31m          \u001b[0m| 0/1 [00:00<?, ?it/s]\n",
            "  0%|\u001b[34m          \u001b[0m| 0/1 [00:00<?, ?it/s]\u001b[A\n",
            "100%|\u001b[34m██████████\u001b[0m| 1/1 [00:01<00:00,  1.32s/it]\u001b[A\n",
            "{'load_data': '0.000', 'extract_feat': '0.015', 'forward': '1.323', 'batch_size': '1', 'rtf': '0.208'}, : 100%|\u001b[34m██████████\u001b[0m| 1/1 [00:01<00:00,  1.32s/it]\u001b[A\n",
            "rtf_avg: 0.208: 100%|\u001b[34m██████████\u001b[0m| 1/1 [00:01<00:00,  1.34s/it]\n",
            "rtf_avg: 0.189, time_speech:  7.176, time_escape: 1.356: 100%|\u001b[31m██████████\u001b[0m| 1/1 [00:01<00:00,  1.38s/it]\n"
          ]
        },
        {
          "output_type": "stream",
          "name": "stdout",
          "text": [
            "The tribal chieftain called for the boy and presented him with 50 pieces of gold.\n"
          ]
        },
        {
          "output_type": "stream",
          "name": "stderr",
          "text": [
            "rtf_avg: 0.021: 100%|\u001b[34m██████████\u001b[0m| 1/1 [00:00<00:00,  8.09it/s]\n",
            "  0%|\u001b[31m          \u001b[0m| 0/1 [00:00<?, ?it/s]\n",
            "  0%|\u001b[34m          \u001b[0m| 0/1 [00:00<?, ?it/s]\u001b[A\n",
            "100%|\u001b[34m██████████\u001b[0m| 1/1 [00:01<00:00,  1.15s/it]\u001b[A\n",
            "{'load_data': '0.000', 'extract_feat': '0.012', 'forward': '1.151', 'batch_size': '1', 'rtf': '0.223'}, : 100%|\u001b[34m██████████\u001b[0m| 1/1 [00:01<00:00,  1.15s/it]\u001b[A\n",
            "rtf_avg: 0.223: 100%|\u001b[34m██████████\u001b[0m| 1/1 [00:01<00:00,  1.17s/it]\n",
            "rtf_avg: 0.210, time_speech:  5.616, time_escape: 1.178: 100%|\u001b[31m██████████\u001b[0m| 1/1 [00:01<00:00,  1.19s/it]"
          ]
        },
        {
          "output_type": "stream",
          "name": "stdout",
          "text": [
            "开放时间早上9点至下午5点。\n"
          ]
        },
        {
          "output_type": "stream",
          "name": "stderr",
          "text": [
            "\n"
          ]
        }
      ],
      "source": [
        "from funasr import AutoModel\n",
        "from funasr.utils.postprocess_utils import rich_transcription_postprocess\n",
        "\n",
        "model_dir = \"iic/SenseVoiceSmall\"\n",
        "\n",
        "\n",
        "model = AutoModel(\n",
        "    model=model_dir,\n",
        "    trust_remote_code=True,\n",
        "    remote_code=\"./model.py\",\n",
        "    vad_model=\"fsmn-vad\",\n",
        "    vad_kwargs={\"max_single_segment_time\": 30000},\n",
        "    device=None,\n",
        ")\n",
        "\n",
        "# en\n",
        "res = model.generate(\n",
        "    input=f\"{model.model_path}/example/en.mp3\",\n",
        "    cache={},\n",
        "    language=\"auto\",  # \"zh\", \"en\", \"yue\", \"ja\", \"ko\", \"nospeech\"\n",
        "    use_itn=True,\n",
        "    batch_size_s=60,\n",
        "    merge_vad=True,\n",
        "    merge_length_s=15,\n",
        ")\n",
        "text = rich_transcription_postprocess(res[0][\"text\"])\n",
        "print(text)\n",
        "# zh\n",
        "res = model.generate(\n",
        "    input=f\"{model.model_path}/example/zh.mp3\",\n",
        "    cache={},\n",
        "    language=\"auto\",  # \"zh\", \"en\", \"yue\", \"ja\", \"ko\", \"nospeech\"\n",
        "    use_itn=True,\n",
        "    batch_size_s=60,\n",
        "    merge_vad=True,  #\n",
        "    merge_length_s=15,\n",
        ")\n",
        "text = rich_transcription_postprocess(res[0][\"text\"])\n",
        "print(text)"
      ]
    },
    {
      "cell_type": "markdown",
      "metadata": {
        "id": "M2hEkKBdNgIn"
      },
      "source": [
        "**No streaming**"
      ]
    },
    {
      "cell_type": "code",
      "execution_count": 6,
      "metadata": {
        "colab": {
          "base_uri": "https://localhost:8080/"
        },
        "id": "RdGkP0wtNe7J",
        "outputId": "5186453e-e532-4619-be6e-5e973282ade5"
      },
      "outputs": [
        {
          "output_type": "stream",
          "name": "stdout",
          "text": [
            "funasr version: 1.1.6.\n",
            "Check update of funasr, and it would cost few times. You may disable it by set `disable_update=True` in AutoModel\n",
            "You are using the latest version of funasr-1.1.6\n"
          ]
        },
        {
          "output_type": "stream",
          "name": "stderr",
          "text": [
            "2024-08-27 04:16:12,766 - modelscope - INFO - Use user-specified model revision: v2.0.4\n",
            "Downloading: 100%|██████████| 10.9k/10.9k [00:00<00:00, 13.6kB/s]\n",
            "Downloading: 100%|██████████| 141k/141k [00:00<00:00, 162kB/s]\n",
            "Downloading: 100%|██████████| 3.34k/3.34k [00:00<00:00, 3.45kB/s]\n",
            "Downloading: 100%|██████████| 478/478 [00:00<00:00, 557B/s]\n",
            "Downloading: 100%|██████████| 7.00/7.00 [00:00<00:00, 8.47B/s]\n",
            "Downloading: 100%|██████████| 944M/944M [00:10<00:00, 90.6MB/s]\n",
            "Downloading: 100%|██████████| 11.3k/11.3k [00:00<00:00, 12.1kB/s]\n",
            "Downloading: 100%|██████████| 192k/192k [00:00<00:00, 213kB/s]\n",
            "Downloading: 100%|██████████| 167k/167k [00:00<00:00, 185kB/s]\n",
            "Downloading: 100%|██████████| 7.90M/7.90M [00:01<00:00, 5.43MB/s]\n",
            "Downloading: 100%|██████████| 91.5k/91.5k [00:01<00:00, 65.1kB/s]\n",
            "2024-08-27 04:16:47,542 - modelscope - INFO - Use user-specified model revision: v2.0.4\n",
            "Downloading: 100%|██████████| 8.45k/8.45k [00:00<00:00, 11.6kB/s]\n",
            "2024-08-27 04:16:49,691 - modelscope - INFO - Use user-specified model revision: v2.0.4\n",
            "Downloading: 100%|██████████| 6.00k/6.00k [00:00<00:00, 8.45kB/s]\n",
            "Downloading: 100%|██████████| 810/810 [00:00<00:00, 873B/s]\n",
            "Downloading: 100%|██████████| 373/373 [00:00<00:00, 452B/s]\n",
            "Downloading: 100%|██████████| 278M/278M [00:04<00:00, 67.0MB/s]\n",
            "Downloading: 100%|██████████| 863/863 [00:00<00:00, 1.04kB/s]\n",
            "Downloading: 100%|██████████| 11.2k/11.2k [00:01<00:00, 7.89kB/s]\n",
            "Downloading: 100%|██████████| 151k/151k [00:01<00:00, 139kB/s]\n",
            "Downloading: 100%|██████████| 4.01M/4.01M [00:01<00:00, 3.69MB/s]\n",
            "rtf_avg: 0.026: 100%|\u001b[34m██████████\u001b[0m| 1/1 [00:00<00:00,  8.11it/s]\n",
            "  0%|\u001b[31m          \u001b[0m| 0/1 [00:00<?, ?it/s]\n",
            "  0%|\u001b[34m          \u001b[0m| 0/1 [00:00<?, ?it/s]\u001b[A\n",
            "100%|\u001b[34m██████████\u001b[0m| 1/1 [00:01<00:00,  1.41s/it]\u001b[A\n",
            "{'load_data': '0.000', 'extract_feat': '0.009', 'forward': '1.412', 'batch_size': '1', 'rtf': '0.374'}, : 100%|\u001b[34m██████████\u001b[0m| 1/1 [00:01<00:00,  1.41s/it]\u001b[A\n",
            "rtf_avg: 0.374: 100%|\u001b[34m██████████\u001b[0m| 1/1 [00:01<00:00,  1.43s/it]\n",
            "\n",
            "  0%|\u001b[34m          \u001b[0m| 0/1 [00:00<?, ?it/s]\u001b[A\n",
            "{'load_data': 0.0, 'extract_feat': 0.0, 'forward': '0.032', 'batch_size': '1', 'rtf': '-0.032'}, : 100%|\u001b[34m██████████\u001b[0m| 1/1 [00:00<00:00, 30.10it/s]\u001b[A\n",
            "rtf_avg: -0.032: 100%|\u001b[34m██████████\u001b[0m| 1/1 [00:00<00:00, 25.25it/s]\n",
            "rtf_avg: 0.329, time_speech:  4.523, time_escape: 1.489: 100%|\u001b[31m██████████\u001b[0m| 1/1 [00:01<00:00,  1.52s/it]"
          ]
        },
        {
          "output_type": "stream",
          "name": "stdout",
          "text": [
            "[{'key': 'asr_example', 'text': '欢迎大家来到魔搭社区进行体验。', 'timestamp': [[1080, 1320], [1320, 1560], [1640, 1800], [1800, 2040], [2040, 2200], [2200, 2420], [2420, 2600], [2600, 2840], [2860, 3080], [3080, 3320], [3420, 3600], [3600, 3840], [3900, 4140], [4140, 4375]]}]\n"
          ]
        },
        {
          "output_type": "stream",
          "name": "stderr",
          "text": [
            "\n"
          ]
        }
      ],
      "source": [
        "from funasr import AutoModel\n",
        "# paraformer-zh is a multi-functional asr model\n",
        "# use vad, punc, spk or not as you need\n",
        "model = AutoModel(model=\"paraformer-zh\", model_revision=\"v2.0.4\",\n",
        "                  vad_model=\"fsmn-vad\", vad_model_revision=\"v2.0.4\",\n",
        "                  punc_model=\"ct-punc-c\", punc_model_revision=\"v2.0.4\",\n",
        "                  # spk_model=\"cam++\", spk_model_revision=\"v2.0.2\",\n",
        "                  )\n",
        "res = model.generate(input=f\"{model.model_path}/example/asr_example.wav\",\n",
        "                     batch_size_s=300,\n",
        "                     hotword='魔搭')\n",
        "print(res)"
      ]
    },
    {
      "cell_type": "markdown",
      "metadata": {
        "id": "yHdpDwvoNlfa"
      },
      "source": [
        "**Streaming**"
      ]
    },
    {
      "cell_type": "code",
      "execution_count": 7,
      "metadata": {
        "colab": {
          "base_uri": "https://localhost:8080/"
        },
        "id": "0aZRp8tPypVh",
        "outputId": "617d0bf1-94dd-4192-a179-a1425ef83265"
      },
      "outputs": [
        {
          "output_type": "stream",
          "name": "stdout",
          "text": [
            "funasr version: 1.1.6.\n",
            "Check update of funasr, and it would cost few times. You may disable it by set `disable_update=True` in AutoModel\n",
            "You are using the latest version of funasr-1.1.6\n"
          ]
        },
        {
          "output_type": "stream",
          "name": "stderr",
          "text": [
            "2024-08-27 04:17:07,194 - modelscope - INFO - Use user-specified model revision: v2.0.4\n",
            "Downloading: 100%|██████████| 6.00k/6.00k [00:00<00:00, 6.30kB/s]\n",
            "Downloading: 100%|██████████| 10.9k/10.9k [00:00<00:00, 13.1kB/s]\n",
            "Downloading: 100%|██████████| 173k/173k [00:01<00:00, 174kB/s]\n",
            "Downloading: 100%|██████████| 2.87k/2.87k [00:01<00:00, 2.18kB/s]\n",
            "Downloading: 100%|██████████| 472/472 [00:01<00:00, 405B/s]\n",
            "Downloading: 100%|██████████| 840M/840M [00:07<00:00, 118MB/s] \n",
            "Downloading: 100%|██████████| 11.8k/11.8k [00:00<00:00, 15.2kB/s]\n",
            "Downloading: 100%|██████████| 7.90M/7.90M [00:01<00:00, 6.85MB/s]\n",
            "Downloading: 100%|██████████| 48.7k/48.7k [00:00<00:00, 52.6kB/s]\n",
            "Downloading: 100%|██████████| 91.5k/91.5k [00:01<00:00, 89.1kB/s]\n",
            "rtf_avg: 0.586: 100%|\u001b[34m██████████\u001b[0m| 1/1 [00:00<00:00,  2.76it/s]\n"
          ]
        },
        {
          "output_type": "stream",
          "name": "stdout",
          "text": [
            "[{'key': 'rand_key_2yW4Acq9GFz6Y', 'text': ''}]\n"
          ]
        },
        {
          "output_type": "stream",
          "name": "stderr",
          "text": [
            "rtf_avg: 0.801: 100%|\u001b[34m██████████\u001b[0m| 1/1 [00:00<00:00,  2.05it/s]\n"
          ]
        },
        {
          "output_type": "stream",
          "name": "stdout",
          "text": [
            "[{'key': 'rand_key_1t9EwL56nGisi', 'text': '试错的'}]\n"
          ]
        },
        {
          "output_type": "stream",
          "name": "stderr",
          "text": [
            "rtf_avg: 0.589: 100%|\u001b[34m██████████\u001b[0m| 1/1 [00:00<00:00,  2.74it/s]\n"
          ]
        },
        {
          "output_type": "stream",
          "name": "stdout",
          "text": [
            "[{'key': 'rand_key_WgNZq6ITZM5jt', 'text': '过程'}]\n"
          ]
        },
        {
          "output_type": "stream",
          "name": "stderr",
          "text": [
            "rtf_avg: 0.618: 100%|\u001b[34m██████████\u001b[0m| 1/1 [00:00<00:00,  2.64it/s]\n"
          ]
        },
        {
          "output_type": "stream",
          "name": "stdout",
          "text": [
            "[{'key': 'rand_key_gUe52RvEJgwBu', 'text': '很简'}]\n"
          ]
        },
        {
          "output_type": "stream",
          "name": "stderr",
          "text": [
            "rtf_avg: 0.577: 100%|\u001b[34m██████████\u001b[0m| 1/1 [00:00<00:00,  2.81it/s]\n"
          ]
        },
        {
          "output_type": "stream",
          "name": "stdout",
          "text": [
            "[{'key': 'rand_key_NO6n9JEC3HqdZ', 'text': '单'}]\n"
          ]
        },
        {
          "output_type": "stream",
          "name": "stderr",
          "text": [
            "rtf_avg: 0.628: 100%|\u001b[34m██████████\u001b[0m| 1/1 [00:00<00:00,  2.58it/s]\n"
          ]
        },
        {
          "output_type": "stream",
          "name": "stdout",
          "text": [
            "[{'key': 'rand_key_6J6afU1zT0YQO', 'text': '而今特'}]\n"
          ]
        },
        {
          "output_type": "stream",
          "name": "stderr",
          "text": [
            "rtf_avg: 0.590: 100%|\u001b[34m██████████\u001b[0m| 1/1 [00:00<00:00,  2.72it/s]\n"
          ]
        },
        {
          "output_type": "stream",
          "name": "stdout",
          "text": [
            "[{'key': 'rand_key_aNF03vpUuT3em', 'text': '别是今'}]\n"
          ]
        },
        {
          "output_type": "stream",
          "name": "stderr",
          "text": [
            "rtf_avg: 0.588: 100%|\u001b[34m██████████\u001b[0m| 1/1 [00:00<00:00,  2.77it/s]\n"
          ]
        },
        {
          "output_type": "stream",
          "name": "stdout",
          "text": [
            "[{'key': 'rand_key_6KopZ9jZICffu', 'text': '天茂名仓'}]\n"
          ]
        },
        {
          "output_type": "stream",
          "name": "stderr",
          "text": [
            "rtf_avg: 0.668: 100%|\u001b[34m██████████\u001b[0m| 1/1 [00:00<00:00,  2.45it/s]\n"
          ]
        },
        {
          "output_type": "stream",
          "name": "stdout",
          "text": [
            "[{'key': 'rand_key_4G7FgtJsThJv0', 'text': '修卡的同'}]\n"
          ]
        },
        {
          "output_type": "stream",
          "name": "stderr",
          "text": [
            "rtf_avg: 0.608: 100%|\u001b[34m██████████\u001b[0m| 1/1 [00:00<00:00,  2.67it/s]\n"
          ]
        },
        {
          "output_type": "stream",
          "name": "stdout",
          "text": [
            "[{'key': 'rand_key_7In9ZMJLsCfMZ', 'text': '学你们'}]\n"
          ]
        },
        {
          "output_type": "stream",
          "name": "stderr",
          "text": [
            "rtf_avg: 0.608: 100%|\u001b[34m██████████\u001b[0m| 1/1 [00:00<00:00,  2.67it/s]\n"
          ]
        },
        {
          "output_type": "stream",
          "name": "stdout",
          "text": [
            "[{'key': 'rand_key_yuKpslm0lcNQq', 'text': '可'}]\n"
          ]
        },
        {
          "output_type": "stream",
          "name": "stderr",
          "text": [
            "rtf_avg: 0.612: 100%|\u001b[34m██████████\u001b[0m| 1/1 [00:00<00:00,  2.65it/s]\n"
          ]
        },
        {
          "output_type": "stream",
          "name": "stdout",
          "text": [
            "[{'key': 'rand_key_EefRWi4j7c1f5', 'text': '以听'}]\n"
          ]
        },
        {
          "output_type": "stream",
          "name": "stderr",
          "text": [
            "rtf_avg: 0.609: 100%|\u001b[34m██████████\u001b[0m| 1/1 [00:00<00:00,  2.68it/s]\n"
          ]
        },
        {
          "output_type": "stream",
          "name": "stdout",
          "text": [
            "[{'key': 'rand_key_S71IRz1THrHZp', 'text': '到后面'}]\n"
          ]
        },
        {
          "output_type": "stream",
          "name": "stderr",
          "text": [
            "rtf_avg: 0.683: 100%|\u001b[34m██████████\u001b[0m| 1/1 [00:00<00:00,  2.39it/s]\n"
          ]
        },
        {
          "output_type": "stream",
          "name": "stdout",
          "text": [
            "[{'key': 'rand_key_2n5RL08ALrCFQ', 'text': '的有'}]\n"
          ]
        },
        {
          "output_type": "stream",
          "name": "stderr",
          "text": [
            "rtf_avg: 0.616: 100%|\u001b[34m██████████\u001b[0m| 1/1 [00:00<00:00,  2.64it/s]\n"
          ]
        },
        {
          "output_type": "stream",
          "name": "stdout",
          "text": [
            "[{'key': 'rand_key_PS6YwfuNhFLOv', 'text': '专门的'}]\n"
          ]
        },
        {
          "output_type": "stream",
          "name": "stderr",
          "text": [
            "rtf_avg: 0.620: 100%|\u001b[34m██████████\u001b[0m| 1/1 [00:00<00:00,  2.62it/s]\n"
          ]
        },
        {
          "output_type": "stream",
          "name": "stdout",
          "text": [
            "[{'key': 'rand_key_2mpbUrhToxYkv', 'text': '活动'}]\n"
          ]
        },
        {
          "output_type": "stream",
          "name": "stderr",
          "text": [
            "rtf_avg: 0.617: 100%|\u001b[34m██████████\u001b[0m| 1/1 [00:00<00:00,  2.64it/s]\n"
          ]
        },
        {
          "output_type": "stream",
          "name": "stdout",
          "text": [
            "[{'key': 'rand_key_B0dgYj2Soc0KO', 'text': '课他会'}]\n"
          ]
        },
        {
          "output_type": "stream",
          "name": "stderr",
          "text": [
            "rtf_avg: 0.555: 100%|\u001b[34m██████████\u001b[0m| 1/1 [00:00<00:00,  2.91it/s]\n"
          ]
        },
        {
          "output_type": "stream",
          "name": "stdout",
          "text": [
            "[{'key': 'rand_key_67IMRebhOmM1K', 'text': '大'}]\n"
          ]
        },
        {
          "output_type": "stream",
          "name": "stderr",
          "text": [
            "rtf_avg: 0.644: 100%|\u001b[34m██████████\u001b[0m| 1/1 [00:00<00:00,  2.53it/s]\n"
          ]
        },
        {
          "output_type": "stream",
          "name": "stdout",
          "text": [
            "[{'key': 'rand_key_hzfx1hcMbm9lT', 'text': '大降低'}]\n"
          ]
        },
        {
          "output_type": "stream",
          "name": "stderr",
          "text": [
            "rtf_avg: 0.608: 100%|\u001b[34m██████████\u001b[0m| 1/1 [00:00<00:00,  2.69it/s]\n"
          ]
        },
        {
          "output_type": "stream",
          "name": "stdout",
          "text": [
            "[{'key': 'rand_key_hEnUZd7RbIBNg', 'text': '你的思错成'}]\n"
          ]
        },
        {
          "output_type": "stream",
          "name": "stderr",
          "text": [
            "rtf_avg: 0.571: 100%|\u001b[34m██████████\u001b[0m| 1/1 [00:00<00:00,  2.85it/s]\n"
          ]
        },
        {
          "output_type": "stream",
          "name": "stdout",
          "text": [
            "[{'key': 'rand_key_1qeoePtwBldGD', 'text': '本'}]\n"
          ]
        },
        {
          "output_type": "stream",
          "name": "stderr",
          "text": [
            "rtf_avg: 0.595: 100%|\u001b[34m██████████\u001b[0m| 1/1 [00:00<00:00,  2.74it/s]\n"
          ]
        },
        {
          "output_type": "stream",
          "name": "stdout",
          "text": [
            "[{'key': 'rand_key_cMgSzmqw5UE15', 'text': '其实你也可'}]\n"
          ]
        },
        {
          "output_type": "stream",
          "name": "stderr",
          "text": [
            "rtf_avg: 0.601: 100%|\u001b[34m██████████\u001b[0m| 1/1 [00:00<00:00,  2.71it/s]\n"
          ]
        },
        {
          "output_type": "stream",
          "name": "stdout",
          "text": [
            "[{'key': 'rand_key_6KkSRn9XdYRk2', 'text': '以不要来'}]\n"
          ]
        },
        {
          "output_type": "stream",
          "name": "stderr",
          "text": [
            "rtf_avg: 0.620: 100%|\u001b[34m██████████\u001b[0m| 1/1 [00:00<00:00,  2.63it/s]\n"
          ]
        },
        {
          "output_type": "stream",
          "name": "stdout",
          "text": [
            "[{'key': 'rand_key_kvHqhM6CQlaER', 'text': '听课'}]\n"
          ]
        },
        {
          "output_type": "stream",
          "name": "stderr",
          "text": [
            "rtf_avg: 0.827: 100%|\u001b[34m██████████\u001b[0m| 1/1 [00:00<00:00,  1.96it/s]\n"
          ]
        },
        {
          "output_type": "stream",
          "name": "stdout",
          "text": [
            "[{'key': 'rand_key_A5K3G6tPwy1Qq', 'text': '为什么'}]\n"
          ]
        },
        {
          "output_type": "stream",
          "name": "stderr",
          "text": [
            "rtf_avg: 0.849: 100%|\u001b[34m██████████\u001b[0m| 1/1 [00:00<00:00,  1.93it/s]\n"
          ]
        },
        {
          "output_type": "stream",
          "name": "stdout",
          "text": [
            "[{'key': 'rand_key_jJSaDVfvVcIri', 'text': '你自己写'}]\n"
          ]
        },
        {
          "output_type": "stream",
          "name": "stderr",
          "text": [
            "rtf_avg: 0.743: 100%|\u001b[34m██████████\u001b[0m| 1/1 [00:00<00:00,  2.19it/s]\n"
          ]
        },
        {
          "output_type": "stream",
          "name": "stdout",
          "text": [
            "[{'key': 'rand_key_pW9EwNsRwL85O', 'text': '嘛'}]\n"
          ]
        },
        {
          "output_type": "stream",
          "name": "stderr",
          "text": [
            "rtf_avg: 0.831: 100%|\u001b[34m██████████\u001b[0m| 1/1 [00:00<00:00,  1.96it/s]\n"
          ]
        },
        {
          "output_type": "stream",
          "name": "stdout",
          "text": [
            "[{'key': 'rand_key_2NiTtyVA1PfaM', 'text': '我写今'}]\n"
          ]
        },
        {
          "output_type": "stream",
          "name": "stderr",
          "text": [
            "rtf_avg: 0.837: 100%|\u001b[34m██████████\u001b[0m| 1/1 [00:00<00:00,  1.94it/s]\n"
          ]
        },
        {
          "output_type": "stream",
          "name": "stdout",
          "text": [
            "[{'key': 'rand_key_mSvkpoOCyT4RK', 'text': '天写五个点'}]\n"
          ]
        },
        {
          "output_type": "stream",
          "name": "stderr",
          "text": [
            "rtf_avg: 0.881: 100%|\u001b[34m██████████\u001b[0m| 1/1 [00:00<00:00,  1.86it/s]\n"
          ]
        },
        {
          "output_type": "stream",
          "name": "stdout",
          "text": [
            "[{'key': 'rand_key_3Acz3SKAXQTck', 'text': '我就是'}]\n"
          ]
        },
        {
          "output_type": "stream",
          "name": "stderr",
          "text": [
            "rtf_avg: 0.786: 100%|\u001b[34m██████████\u001b[0m| 1/1 [00:00<00:00,  2.08it/s]\n"
          ]
        },
        {
          "output_type": "stream",
          "name": "stdout",
          "text": [
            "[{'key': 'rand_key_CeqSkCH4F6JMW', 'text': '是'}]\n"
          ]
        },
        {
          "output_type": "stream",
          "name": "stderr",
          "text": [
            "rtf_avg: 0.614: 100%|\u001b[34m██████████\u001b[0m| 1/1 [00:00<00:00,  2.66it/s]\n"
          ]
        },
        {
          "output_type": "stream",
          "name": "stdout",
          "text": [
            "[{'key': 'rand_key_a4cFut1DdZ04Z', 'text': '实验一下'}]\n"
          ]
        },
        {
          "output_type": "stream",
          "name": "stderr",
          "text": [
            "rtf_avg: 0.637: 100%|\u001b[34m██████████\u001b[0m| 1/1 [00:00<00:00,  2.56it/s]\n"
          ]
        },
        {
          "output_type": "stream",
          "name": "stdout",
          "text": [
            "[{'key': 'rand_key_AmJ9Of1Uiaz8R', 'text': '发现这五个点'}]\n"
          ]
        },
        {
          "output_type": "stream",
          "name": "stderr",
          "text": [
            "rtf_avg: 0.633: 100%|\u001b[34m██████████\u001b[0m| 1/1 [00:00<00:00,  2.58it/s]\n"
          ]
        },
        {
          "output_type": "stream",
          "name": "stdout",
          "text": [
            "[{'key': 'rand_key_AuanaTWa0RHNg', 'text': '不行'}]\n"
          ]
        },
        {
          "output_type": "stream",
          "name": "stderr",
          "text": [
            "rtf_avg: 0.598: 100%|\u001b[34m██████████\u001b[0m| 1/1 [00:00<00:00,  2.70it/s]\n"
          ]
        },
        {
          "output_type": "stream",
          "name": "stdout",
          "text": [
            "[{'key': 'rand_key_mhMPm3trSlgE2', 'text': '我再写五个'}]\n"
          ]
        },
        {
          "output_type": "stream",
          "name": "stderr",
          "text": [
            "rtf_avg: 0.622: 100%|\u001b[34m██████████\u001b[0m| 1/1 [00:00<00:00,  2.62it/s]\n"
          ]
        },
        {
          "output_type": "stream",
          "name": "stdout",
          "text": [
            "[{'key': 'rand_key_7zOfbr6CZYh3q', 'text': '点这'}]\n"
          ]
        },
        {
          "output_type": "stream",
          "name": "stderr",
          "text": [
            "rtf_avg: 0.659: 100%|\u001b[34m██████████\u001b[0m| 1/1 [00:00<00:00,  2.46it/s]\n"
          ]
        },
        {
          "output_type": "stream",
          "name": "stdout",
          "text": [
            "[{'key': 'rand_key_iPH0PPwh3jr2b', 'text': '是这不'}]\n"
          ]
        },
        {
          "output_type": "stream",
          "name": "stderr",
          "text": [
            "rtf_avg: 0.604: 100%|\u001b[34m██████████\u001b[0m| 1/1 [00:00<00:00,  2.71it/s]\n"
          ]
        },
        {
          "output_type": "stream",
          "name": "stdout",
          "text": [
            "[{'key': 'rand_key_ccnRqJu8x8K62', 'text': '行'}]\n"
          ]
        },
        {
          "output_type": "stream",
          "name": "stderr",
          "text": [
            "rtf_avg: 0.624: 100%|\u001b[34m██████████\u001b[0m| 1/1 [00:00<00:00,  2.62it/s]\n"
          ]
        },
        {
          "output_type": "stream",
          "name": "stdout",
          "text": [
            "[{'key': 'rand_key_c2V9SMPFTP5DO', 'text': '那再写五个'}]\n"
          ]
        },
        {
          "output_type": "stream",
          "name": "stderr",
          "text": [
            "rtf_avg: 0.603: 100%|\u001b[34m██████████\u001b[0m| 1/1 [00:00<00:00,  2.70it/s]\n"
          ]
        },
        {
          "output_type": "stream",
          "name": "stdout",
          "text": [
            "[{'key': 'rand_key_Bx3IlnyLsaijr', 'text': '点嘛'}]\n"
          ]
        },
        {
          "output_type": "stream",
          "name": "stderr",
          "text": [
            "rtf_avg: 0.587: 100%|\u001b[34m██████████\u001b[0m| 1/1 [00:00<00:00,  2.77it/s]\n"
          ]
        },
        {
          "output_type": "stream",
          "name": "stdout",
          "text": [
            "[{'key': 'rand_key_vvYxTfvXNccrk', 'text': '你'}]\n"
          ]
        },
        {
          "output_type": "stream",
          "name": "stderr",
          "text": [
            "rtf_avg: 0.636: 100%|\u001b[34m██████████\u001b[0m| 1/1 [00:00<00:00,  2.56it/s]\n"
          ]
        },
        {
          "output_type": "stream",
          "name": "stdout",
          "text": [
            "[{'key': 'rand_key_jLsxzJishEUp7', 'text': '总会'}]\n"
          ]
        },
        {
          "output_type": "stream",
          "name": "stderr",
          "text": [
            "rtf_avg: 0.575: 100%|\u001b[34m██████████\u001b[0m| 1/1 [00:00<00:00,  2.82it/s]\n"
          ]
        },
        {
          "output_type": "stream",
          "name": "stdout",
          "text": [
            "[{'key': 'rand_key_dtl2HUetz1vtA', 'text': '所'}]\n"
          ]
        },
        {
          "output_type": "stream",
          "name": "stderr",
          "text": [
            "rtf_avg: 0.654: 100%|\u001b[34m██████████\u001b[0m| 1/1 [00:00<00:00,  2.50it/s]\n"
          ]
        },
        {
          "output_type": "stream",
          "name": "stdout",
          "text": [
            "[{'key': 'rand_key_ggJ6EEv1ZZvhE', 'text': '谓的'}]\n"
          ]
        },
        {
          "output_type": "stream",
          "name": "stderr",
          "text": [
            "rtf_avg: 0.469: 100%|\u001b[34m██████████\u001b[0m| 1/1 [00:00<00:00,  3.46it/s]\n"
          ]
        },
        {
          "output_type": "stream",
          "name": "stdout",
          "text": [
            "[{'key': 'rand_key_hSFBctvVR5j6k', 'text': ''}]\n"
          ]
        },
        {
          "output_type": "stream",
          "name": "stderr",
          "text": [
            "rtf_avg: 0.629: 100%|\u001b[34m██████████\u001b[0m| 1/1 [00:00<00:00,  2.60it/s]\n"
          ]
        },
        {
          "output_type": "stream",
          "name": "stdout",
          "text": [
            "[{'key': 'rand_key_OKyZOfeZfmVod', 'text': '活动'}]\n"
          ]
        },
        {
          "output_type": "stream",
          "name": "stderr",
          "text": [
            "rtf_avg: 0.637: 100%|\u001b[34m██████████\u001b[0m| 1/1 [00:00<00:00,  2.55it/s]\n"
          ]
        },
        {
          "output_type": "stream",
          "name": "stdout",
          "text": [
            "[{'key': 'rand_key_yagzJHsC6FYLT', 'text': '达审'}]\n"
          ]
        },
        {
          "output_type": "stream",
          "name": "stderr",
          "text": [
            "rtf_avg: 0.614: 100%|\u001b[34m██████████\u001b[0m| 1/1 [00:00<00:00,  2.66it/s]\n"
          ]
        },
        {
          "output_type": "stream",
          "name": "stdout",
          "text": [
            "[{'key': 'rand_key_RnBfxoqLXkBmw', 'text': '和所谓的高'}]\n"
          ]
        },
        {
          "output_type": "stream",
          "name": "stderr",
          "text": [
            "rtf_avg: 0.612: 100%|\u001b[34m██████████\u001b[0m| 1/1 [00:00<00:00,  2.66it/s]\n"
          ]
        },
        {
          "output_type": "stream",
          "name": "stdout",
          "text": [
            "[{'key': 'rand_key_he032Sb5HCWRm', 'text': '手'}]\n"
          ]
        },
        {
          "output_type": "stream",
          "name": "stderr",
          "text": [
            "rtf_avg: 0.479: 100%|\u001b[34m██████████\u001b[0m| 1/1 [00:00<00:00,  3.36it/s]\n"
          ]
        },
        {
          "output_type": "stream",
          "name": "stdout",
          "text": [
            "[{'key': 'rand_key_hFzqnPc8ZnNjg', 'text': ''}]\n"
          ]
        },
        {
          "output_type": "stream",
          "name": "stderr",
          "text": [
            "rtf_avg: 0.580: 100%|\u001b[34m██████████\u001b[0m| 1/1 [00:00<00:00,  2.81it/s]\n"
          ]
        },
        {
          "output_type": "stream",
          "name": "stdout",
          "text": [
            "[{'key': 'rand_key_mDyxI0jgMFjKz', 'text': '都'}]\n"
          ]
        },
        {
          "output_type": "stream",
          "name": "stderr",
          "text": [
            "rtf_avg: 0.648: 100%|\u001b[34m██████████\u001b[0m| 1/1 [00:00<00:00,  2.52it/s]\n"
          ]
        },
        {
          "output_type": "stream",
          "name": "stdout",
          "text": [
            "[{'key': 'rand_key_ORB4HFR64u1FF', 'text': '是只有'}]\n"
          ]
        },
        {
          "output_type": "stream",
          "name": "stderr",
          "text": [
            "rtf_avg: 0.636: 100%|\u001b[34m██████████\u001b[0m| 1/1 [00:00<00:00,  2.54it/s]\n"
          ]
        },
        {
          "output_type": "stream",
          "name": "stdout",
          "text": [
            "[{'key': 'rand_key_OQ3mIN7oavT9V', 'text': '一个'}]\n"
          ]
        },
        {
          "output_type": "stream",
          "name": "stderr",
          "text": [
            "rtf_avg: 0.484: 100%|\u001b[34m██████████\u001b[0m| 1/1 [00:00<00:00,  3.31it/s]\n"
          ]
        },
        {
          "output_type": "stream",
          "name": "stdout",
          "text": [
            "[{'key': 'rand_key_5u0ucHj3qMYj1', 'text': ''}]\n"
          ]
        },
        {
          "output_type": "stream",
          "name": "stderr",
          "text": [
            "rtf_avg: 0.646: 100%|\u001b[34m██████████\u001b[0m| 1/1 [00:00<00:00,  2.53it/s]\n"
          ]
        },
        {
          "output_type": "stream",
          "name": "stdout",
          "text": [
            "[{'key': 'rand_key_yLsTTZEeZfH36', 'text': '把所有的'}]\n"
          ]
        },
        {
          "output_type": "stream",
          "name": "stderr",
          "text": [
            "rtf_avg: 0.604: 100%|\u001b[34m██████████\u001b[0m| 1/1 [00:00<00:00,  2.67it/s]\n"
          ]
        },
        {
          "output_type": "stream",
          "name": "stdout",
          "text": [
            "[{'key': 'rand_key_ceoictaW2Cv3k', 'text': '错所'}]\n"
          ]
        },
        {
          "output_type": "stream",
          "name": "stderr",
          "text": [
            "rtf_avg: 0.740: 100%|\u001b[34m██████████\u001b[0m| 1/1 [00:00<00:00,  2.22it/s]\n"
          ]
        },
        {
          "output_type": "stream",
          "name": "stdout",
          "text": [
            "[{'key': 'rand_key_Zj3PD9xGy5HGc', 'text': '有的坑'}]\n"
          ]
        },
        {
          "output_type": "stream",
          "name": "stderr",
          "text": [
            "rtf_avg: 0.789: 100%|\u001b[34m██████████\u001b[0m| 1/1 [00:00<00:00,  2.07it/s]\n"
          ]
        },
        {
          "output_type": "stream",
          "name": "stdout",
          "text": [
            "[{'key': 'rand_key_KfRYZHWMeVB5W', 'text': '全给趟'}]\n"
          ]
        },
        {
          "output_type": "stream",
          "name": "stderr",
          "text": [
            "rtf_avg: 0.843: 100%|\u001b[34m██████████\u001b[0m| 1/1 [00:00<00:00,  1.94it/s]\n"
          ]
        },
        {
          "output_type": "stream",
          "name": "stdout",
          "text": [
            "[{'key': 'rand_key_nsI5MA0E2YyML', 'text': '一遍'}]\n"
          ]
        },
        {
          "output_type": "stream",
          "name": "stderr",
          "text": [
            "rtf_avg: 0.775: 100%|\u001b[34m██████████\u001b[0m| 1/1 [00:00<00:00,  2.12it/s]\n"
          ]
        },
        {
          "output_type": "stream",
          "name": "stdout",
          "text": [
            "[{'key': 'rand_key_o23ZbQ4aVltGK', 'text': '留'}]\n"
          ]
        },
        {
          "output_type": "stream",
          "name": "stderr",
          "text": [
            "rtf_avg: 0.890: 100%|\u001b[34m██████████\u001b[0m| 1/1 [00:00<00:00,  1.85it/s]\n"
          ]
        },
        {
          "output_type": "stream",
          "name": "stdout",
          "text": [
            "[{'key': 'rand_key_qveF3q80tXAyZ', 'text': '下正确的'}]\n"
          ]
        },
        {
          "output_type": "stream",
          "name": "stderr",
          "text": [
            "rtf_avg: 0.827: 100%|\u001b[34m██████████\u001b[0m| 1/1 [00:00<00:00,  1.98it/s]\n"
          ]
        },
        {
          "output_type": "stream",
          "name": "stdout",
          "text": [
            "[{'key': 'rand_key_ydkP7ipsU1vd8', 'text': '你就是'}]\n"
          ]
        },
        {
          "output_type": "stream",
          "name": "stderr",
          "text": [
            "rtf_avg: 0.878: 100%|\u001b[34m██████████\u001b[0m| 1/1 [00:00<00:00,  1.87it/s]\n"
          ]
        },
        {
          "output_type": "stream",
          "name": "stdout",
          "text": [
            "[{'key': 'rand_key_cEAjF43MTfRSj', 'text': '所谓的大神'}]\n"
          ]
        },
        {
          "output_type": "stream",
          "name": "stderr",
          "text": [
            "rtf_avg: 0.595: 100%|\u001b[34m██████████\u001b[0m| 1/1 [00:00<00:00,  2.73it/s]\n"
          ]
        },
        {
          "output_type": "stream",
          "name": "stdout",
          "text": [
            "[{'key': 'rand_key_ZwAcNDyDdgEXj', 'text': ''}]\n"
          ]
        },
        {
          "output_type": "stream",
          "name": "stderr",
          "text": [
            "rtf_avg: 0.643: 100%|\u001b[34m██████████\u001b[0m| 1/1 [00:00<00:00,  2.53it/s]\n"
          ]
        },
        {
          "output_type": "stream",
          "name": "stdout",
          "text": [
            "[{'key': 'rand_key_bcMNiOugSJPwm', 'text': '明白'}]\n"
          ]
        },
        {
          "output_type": "stream",
          "name": "stderr",
          "text": [
            "rtf_avg: 0.586: 100%|\u001b[34m██████████\u001b[0m| 1/1 [00:00<00:00,  2.78it/s]\n"
          ]
        },
        {
          "output_type": "stream",
          "name": "stdout",
          "text": [
            "[{'key': 'rand_key_yYXXFh4dNSDNO', 'text': '吗所'}]\n"
          ]
        },
        {
          "output_type": "stream",
          "name": "stderr",
          "text": [
            "rtf_avg: 0.601: 100%|\u001b[34m██████████\u001b[0m| 1/1 [00:00<00:00,  2.71it/s]\n"
          ]
        },
        {
          "output_type": "stream",
          "name": "stdout",
          "text": [
            "[{'key': 'rand_key_7vPhRTNsY2i96', 'text': '以说关于'}]\n"
          ]
        },
        {
          "output_type": "stream",
          "name": "stderr",
          "text": [
            "rtf_avg: 0.675: 100%|\u001b[34m██████████\u001b[0m| 1/1 [00:00<00:00,  2.42it/s]\n"
          ]
        },
        {
          "output_type": "stream",
          "name": "stdout",
          "text": [
            "[{'key': 'rand_key_yZs6V39RZhH3Y', 'text': '活动通过这'}]\n"
          ]
        },
        {
          "output_type": "stream",
          "name": "stderr",
          "text": [
            "rtf_avg: 0.602: 100%|\u001b[34m██████████\u001b[0m| 1/1 [00:00<00:00,  2.69it/s]\n"
          ]
        },
        {
          "output_type": "stream",
          "name": "stdout",
          "text": [
            "[{'key': 'rand_key_mcYzCxWmDwYOe', 'text': '一块我只'}]\n"
          ]
        },
        {
          "output_type": "stream",
          "name": "stderr",
          "text": [
            "rtf_avg: 1.956: 100%|\u001b[34m██████████\u001b[0m| 1/1 [00:01<00:00,  1.21s/it]\n"
          ]
        },
        {
          "output_type": "stream",
          "name": "stdout",
          "text": [
            "[{'key': 'rand_key_9c57cFq5b8HQK', 'text': '送给你们'}]\n"
          ]
        },
        {
          "output_type": "stream",
          "name": "stderr",
          "text": [
            "rtf_avg: 1.599: 100%|\u001b[34m██████████\u001b[0m| 1/1 [00:00<00:00,  1.02it/s]\n"
          ]
        },
        {
          "output_type": "stream",
          "name": "stdout",
          "text": [
            "[{'key': 'rand_key_K4nofX044OXGS', 'text': '四个字'}]\n"
          ]
        },
        {
          "output_type": "stream",
          "name": "stderr",
          "text": [
            "rtf_avg: 1.698: 100%|\u001b[34m██████████\u001b[0m| 1/1 [00:01<00:00,  1.06s/it]\n"
          ]
        },
        {
          "output_type": "stream",
          "name": "stdout",
          "text": [
            "[{'key': 'rand_key_HAGt8hjB5KB7f', 'text': '啊换'}]\n"
          ]
        },
        {
          "output_type": "stream",
          "name": "stderr",
          "text": [
            "rtf_avg: 2.064: 100%|\u001b[34m██████████\u001b[0m| 1/1 [00:01<00:00,  1.25s/it]\n"
          ]
        },
        {
          "output_type": "stream",
          "name": "stdout",
          "text": [
            "[{'key': 'rand_key_7gAegAXjU9bYC', 'text': '位思考'}]\n"
          ]
        },
        {
          "output_type": "stream",
          "name": "stderr",
          "text": [
            "rtf_avg: 2.009: 100%|\u001b[34m██████████\u001b[0m| 1/1 [00:01<00:00,  1.23s/it]\n"
          ]
        },
        {
          "output_type": "stream",
          "name": "stdout",
          "text": [
            "[{'key': 'rand_key_BRAbF639uUqfw', 'text': '如'}]\n"
          ]
        },
        {
          "output_type": "stream",
          "name": "stderr",
          "text": [
            "rtf_avg: 1.274: 100%|\u001b[34m██████████\u001b[0m| 1/1 [00:00<00:00,  1.29it/s]\n"
          ]
        },
        {
          "output_type": "stream",
          "name": "stdout",
          "text": [
            "[{'key': 'rand_key_ehwSbwwla1o0x', 'text': '果说'}]\n"
          ]
        },
        {
          "output_type": "stream",
          "name": "stderr",
          "text": [
            "rtf_avg: 1.108: 100%|\u001b[34m██████████\u001b[0m| 1/1 [00:00<00:00,  1.47it/s]\n"
          ]
        },
        {
          "output_type": "stream",
          "name": "stdout",
          "text": [
            "[{'key': 'rand_key_eM5jnanQRU85h', 'text': '你要'}]\n"
          ]
        },
        {
          "output_type": "stream",
          "name": "stderr",
          "text": [
            "rtf_avg: 1.151: 100%|\u001b[34m██████████\u001b[0m| 1/1 [00:00<00:00,  1.42it/s]\n"
          ]
        },
        {
          "output_type": "stream",
          "name": "stdout",
          "text": [
            "[{'key': 'rand_key_VasxSb7Mo2jlD', 'text': '想降低'}]\n"
          ]
        },
        {
          "output_type": "stream",
          "name": "stderr",
          "text": [
            "rtf_avg: 1.016: 100%|\u001b[34m██████████\u001b[0m| 1/1 [00:00<00:00,  1.61it/s]\n"
          ]
        },
        {
          "output_type": "stream",
          "name": "stdout",
          "text": [
            "[{'key': 'rand_key_hEwT9qib9nxvE', 'text': '你的思错成'}]\n"
          ]
        },
        {
          "output_type": "stream",
          "name": "stderr",
          "text": [
            "rtf_avg: 0.776: 100%|\u001b[34m██████████\u001b[0m| 1/1 [00:00<00:00,  2.11it/s]\n"
          ]
        },
        {
          "output_type": "stream",
          "name": "stdout",
          "text": [
            "[{'key': 'rand_key_9ss749JOulLfg', 'text': '本'}]\n"
          ]
        },
        {
          "output_type": "stream",
          "name": "stderr",
          "text": [
            "rtf_avg: 0.760: 100%|\u001b[34m██████████\u001b[0m| 1/1 [00:00<00:00,  2.13it/s]\n"
          ]
        },
        {
          "output_type": "stream",
          "name": "stdout",
          "text": [
            "[{'key': 'rand_key_ILtky5j8iZouG', 'text': '今'}]\n"
          ]
        },
        {
          "output_type": "stream",
          "name": "stderr",
          "text": [
            "rtf_avg: 0.883: 100%|\u001b[34m██████████\u001b[0m| 1/1 [00:00<00:00,  1.85it/s]\n"
          ]
        },
        {
          "output_type": "stream",
          "name": "stdout",
          "text": [
            "[{'key': 'rand_key_ppWlsxAQc3iMb', 'text': '天来'}]\n"
          ]
        },
        {
          "output_type": "stream",
          "name": "stderr",
          "text": [
            "rtf_avg: 0.945: 100%|\u001b[34m██████████\u001b[0m| 1/1 [00:00<00:00,  1.73it/s]\n"
          ]
        },
        {
          "output_type": "stream",
          "name": "stdout",
          "text": [
            "[{'key': 'rand_key_zeSeiAtJAV7jL', 'text': '这里你们'}]\n"
          ]
        },
        {
          "output_type": "stream",
          "name": "stderr",
          "text": [
            "rtf_avg: 0.771: 100%|\u001b[34m██████████\u001b[0m| 1/1 [00:00<00:00,  2.12it/s]\n"
          ]
        },
        {
          "output_type": "stream",
          "name": "stdout",
          "text": [
            "[{'key': 'rand_key_BtOwfpCOxO8Hd', 'text': '就是对的'}]\n"
          ]
        },
        {
          "output_type": "stream",
          "name": "stderr",
          "text": [
            "rtf_avg: 0.468: 100%|\u001b[34m██████████\u001b[0m| 1/1 [00:00<00:00,  3.43it/s]\n"
          ]
        },
        {
          "output_type": "stream",
          "name": "stdout",
          "text": [
            "[{'key': 'rand_key_yAaA9U5uCnxs8', 'text': ''}]\n"
          ]
        },
        {
          "output_type": "stream",
          "name": "stderr",
          "text": [
            "rtf_avg: 0.611: 100%|\u001b[34m██████████\u001b[0m| 1/1 [00:00<00:00,  2.66it/s]\n"
          ]
        },
        {
          "output_type": "stream",
          "name": "stdout",
          "text": [
            "[{'key': 'rand_key_Ef8lYgrhJMSjY', 'text': '因为有'}]\n"
          ]
        },
        {
          "output_type": "stream",
          "name": "stderr",
          "text": [
            "rtf_avg: 0.674: 100%|\u001b[34m██████████\u001b[0m| 1/1 [00:00<00:00,  2.42it/s]\n"
          ]
        },
        {
          "output_type": "stream",
          "name": "stdout",
          "text": [
            "[{'key': 'rand_key_SC7zlXABlp9Dv', 'text': '创企创'}]\n"
          ]
        },
        {
          "output_type": "stream",
          "name": "stderr",
          "text": [
            "rtf_avg: 0.618: 100%|\u001b[34m██████████\u001b[0m| 1/1 [00:00<00:00,  2.62it/s]\n"
          ]
        },
        {
          "output_type": "stream",
          "name": "stdout",
          "text": [
            "[{'key': 'rand_key_7HjwDOOfEWnsa', 'text': '学卡这个机'}]\n"
          ]
        },
        {
          "output_type": "stream",
          "name": "stderr",
          "text": [
            "rtf_avg: 0.647: 100%|\u001b[34m██████████\u001b[0m| 1/1 [00:00<00:00,  2.49it/s]\n"
          ]
        },
        {
          "output_type": "stream",
          "name": "stdout",
          "text": [
            "[{'key': 'rand_key_1SCNDanthXOtI', 'text': '会所'}]\n"
          ]
        },
        {
          "output_type": "stream",
          "name": "stderr",
          "text": [
            "rtf_avg: 0.622: 100%|\u001b[34m██████████\u001b[0m| 1/1 [00:00<00:00,  2.62it/s]\n"
          ]
        },
        {
          "output_type": "stream",
          "name": "stdout",
          "text": [
            "[{'key': 'rand_key_MjBTWEfRFW9oI', 'text': '以说关于活'}]\n"
          ]
        },
        {
          "output_type": "stream",
          "name": "stderr",
          "text": [
            "rtf_avg: 0.647: 100%|\u001b[34m██████████\u001b[0m| 1/1 [00:00<00:00,  2.46it/s]\n"
          ]
        },
        {
          "output_type": "stream",
          "name": "stdout",
          "text": [
            "[{'key': 'rand_key_WzrObhr4Qcaqz', 'text': '动过于不'}]\n"
          ]
        },
        {
          "output_type": "stream",
          "name": "stderr",
          "text": [
            "rtf_avg: 0.647: 100%|\u001b[34m██████████\u001b[0m| 1/1 [00:00<00:00,  2.49it/s]\n"
          ]
        },
        {
          "output_type": "stream",
          "name": "stdout",
          "text": [
            "[{'key': 'rand_key_H4LTzCgVqws3W', 'text': '过这个'}]\n"
          ]
        },
        {
          "output_type": "stream",
          "name": "stderr",
          "text": [
            "rtf_avg: 0.617: 100%|\u001b[34m██████████\u001b[0m| 1/1 [00:00<00:00,  2.63it/s]\n"
          ]
        },
        {
          "output_type": "stream",
          "name": "stdout",
          "text": [
            "[{'key': 'rand_key_R6mMfceYqtIvh', 'text': '问题或者'}]\n"
          ]
        },
        {
          "output_type": "stream",
          "name": "stderr",
          "text": [
            "rtf_avg: 0.656: 100%|\u001b[34m██████████\u001b[0m| 1/1 [00:00<00:00,  2.48it/s]\n"
          ]
        },
        {
          "output_type": "stream",
          "name": "stdout",
          "text": [
            "[{'key': 'rand_key_H3p56WkeA3ssH', 'text': '活动很难'}]\n"
          ]
        },
        {
          "output_type": "stream",
          "name": "stderr",
          "text": [
            "rtf_avg: 0.624: 100%|\u001b[34m██████████\u001b[0m| 1/1 [00:00<00:00,  2.60it/s]\n"
          ]
        },
        {
          "output_type": "stream",
          "name": "stdout",
          "text": [
            "[{'key': 'rand_key_iKHOnIgA9OIzV', 'text': '通过这个话'}]\n"
          ]
        },
        {
          "output_type": "stream",
          "name": "stderr",
          "text": [
            "rtf_avg: 0.629: 100%|\u001b[34m██████████\u001b[0m| 1/1 [00:00<00:00,  2.60it/s]\n"
          ]
        },
        {
          "output_type": "stream",
          "name": "stdout",
          "text": [
            "[{'key': 'rand_key_X5YrsCxKOikhS', 'text': '题'}]\n"
          ]
        },
        {
          "output_type": "stream",
          "name": "stderr",
          "text": [
            "rtf_avg: 0.644: 100%|\u001b[34m██████████\u001b[0m| 1/1 [00:00<00:00,  2.54it/s]\n"
          ]
        },
        {
          "output_type": "stream",
          "name": "stdout",
          "text": [
            "[{'key': 'rand_key_hyzLDiJQtwOEV', 'text': '呃如'}]\n"
          ]
        },
        {
          "output_type": "stream",
          "name": "stderr",
          "text": [
            "rtf_avg: 0.637: 100%|\u001b[34m██████████\u001b[0m| 1/1 [00:00<00:00,  2.54it/s]\n"
          ]
        },
        {
          "output_type": "stream",
          "name": "stdout",
          "text": [
            "[{'key': 'rand_key_AnEFSGuFP9dCt', 'text': '果真的要'}]\n"
          ]
        },
        {
          "output_type": "stream",
          "name": "stderr",
          "text": [
            "rtf_avg: 0.831: 100%|\u001b[34m██████████\u001b[0m| 1/1 [00:00<00:00,  1.93it/s]\n"
          ]
        },
        {
          "output_type": "stream",
          "name": "stdout",
          "text": [
            "[{'key': 'rand_key_jVFd4NnbwEz4a', 'text': '坐下来聊'}]\n"
          ]
        },
        {
          "output_type": "stream",
          "name": "stderr",
          "text": [
            "rtf_avg: 1.098: 100%|\u001b[34m██████████\u001b[0m| 1/1 [00:00<00:00,  1.49it/s]\n"
          ]
        },
        {
          "output_type": "stream",
          "name": "stdout",
          "text": [
            "[{'key': 'rand_key_2HeR3fR8V7Qza', 'text': '的话要聊一'}]\n"
          ]
        },
        {
          "output_type": "stream",
          "name": "stderr",
          "text": [
            "rtf_avg: 0.919: 100%|\u001b[34m██████████\u001b[0m| 1/1 [00:00<00:00,  1.76it/s]\n"
          ]
        },
        {
          "output_type": "stream",
          "name": "stdout",
          "text": [
            "[{'key': 'rand_key_xchNar3OSsU5o', 'text': '天'}]\n"
          ]
        },
        {
          "output_type": "stream",
          "name": "stderr",
          "text": [
            "rtf_avg: 1.123: 100%|\u001b[34m██████████\u001b[0m| 1/1 [00:00<00:00,  1.46it/s]\n"
          ]
        },
        {
          "output_type": "stream",
          "name": "stdout",
          "text": [
            "[{'key': 'rand_key_jWKsmgBDTvykv', 'text': '但是'}]\n"
          ]
        },
        {
          "output_type": "stream",
          "name": "stderr",
          "text": [
            "rtf_avg: 1.019: 100%|\u001b[34m██████████\u001b[0m| 1/1 [00:00<00:00,  1.58it/s]\n"
          ]
        },
        {
          "output_type": "stream",
          "name": "stdout",
          "text": [
            "[{'key': 'rand_key_AP5RBjC7TjHui', 'text': '我觉得'}]\n"
          ]
        },
        {
          "output_type": "stream",
          "name": "stderr",
          "text": [
            "rtf_avg: 1.080: 100%|\u001b[34m██████████\u001b[0m| 1/1 [00:00<00:00,  1.49it/s]\n"
          ]
        },
        {
          "output_type": "stream",
          "name": "stdout",
          "text": [
            "[{'key': 'rand_key_n6lCwYyBZFyUo', 'text': '我刚才说'}]\n"
          ]
        },
        {
          "output_type": "stream",
          "name": "stderr",
          "text": [
            "rtf_avg: 1.232: 100%|\u001b[34m██████████\u001b[0m| 1/1 [00:00<00:00,  1.33it/s]\n"
          ]
        },
        {
          "output_type": "stream",
          "name": "stdout",
          "text": [
            "[{'key': 'rand_key_YmC8nLTd5ycoO', 'text': '的四个字'}]\n"
          ]
        },
        {
          "output_type": "stream",
          "name": "stderr",
          "text": [
            "rtf_avg: 1.550: 100%|\u001b[34m██████████\u001b[0m| 1/1 [00:00<00:00,  1.06it/s]\n"
          ]
        },
        {
          "output_type": "stream",
          "name": "stdout",
          "text": [
            "[{'key': 'rand_key_f3lxdVORloNtN', 'text': '足够'}]\n"
          ]
        },
        {
          "output_type": "stream",
          "name": "stderr",
          "text": [
            "rtf_avg: 1.494: 100%|\u001b[34m██████████\u001b[0m| 1/1 [00:00<00:00,  1.09it/s]\n"
          ]
        },
        {
          "output_type": "stream",
          "name": "stdout",
          "text": [
            "[{'key': 'rand_key_fT3GWsX44wADd', 'text': '好'}]\n"
          ]
        },
        {
          "output_type": "stream",
          "name": "stderr",
          "text": [
            "rtf_avg: 1.622: 100%|\u001b[34m██████████\u001b[0m| 1/1 [00:00<00:00,  1.01it/s]\n"
          ]
        },
        {
          "output_type": "stream",
          "name": "stdout",
          "text": [
            "[{'key': 'rand_key_OSHQ9P9J7V7BL', 'text': '谢谢'}]\n"
          ]
        },
        {
          "output_type": "stream",
          "name": "stderr",
          "text": [
            "rtf_avg: 1.601: 100%|\u001b[34m██████████\u001b[0m| 1/1 [00:00<00:00,  1.02it/s]\n"
          ]
        },
        {
          "output_type": "stream",
          "name": "stdout",
          "text": [
            "[{'key': 'rand_key_DFqTEnvrccdkw', 'text': '好非常'}]\n"
          ]
        },
        {
          "output_type": "stream",
          "name": "stderr",
          "text": [
            "rtf_avg: 1.756: 100%|\u001b[34m██████████\u001b[0m| 1/1 [00:01<00:00,  1.06s/it]\n"
          ]
        },
        {
          "output_type": "stream",
          "name": "stdout",
          "text": [
            "[{'key': 'rand_key_asPaieYBRoMzJ', 'text': '感谢那个'}]\n"
          ]
        },
        {
          "output_type": "stream",
          "name": "stderr",
          "text": [
            "rtf_avg: 1.404: 100%|\u001b[34m██████████\u001b[0m| 1/1 [00:00<00:00,  1.16it/s]\n"
          ]
        },
        {
          "output_type": "stream",
          "name": "stdout",
          "text": [
            "[{'key': 'rand_key_6oDmvMgM4fYuu', 'text': '三方老师的回'}]\n"
          ]
        },
        {
          "output_type": "stream",
          "name": "stderr",
          "text": [
            "rtf_avg: 1.524: 100%|\u001b[34m██████████\u001b[0m| 1/1 [00:00<00:00,  1.07it/s]\n"
          ]
        },
        {
          "output_type": "stream",
          "name": "stdout",
          "text": [
            "[{'key': 'rand_key_ID5uqbHcmxfn3', 'text': '答啊三毛老'}]\n"
          ]
        },
        {
          "output_type": "stream",
          "name": "stderr",
          "text": [
            "rtf_avg: 1.404: 100%|\u001b[34m██████████\u001b[0m| 1/1 [00:00<00:00,  1.17it/s]\n"
          ]
        },
        {
          "output_type": "stream",
          "name": "stdout",
          "text": [
            "[{'key': 'rand_key_Hwm1mqRUVttH3', 'text': '师说我'}]\n"
          ]
        },
        {
          "output_type": "stream",
          "name": "stderr",
          "text": [
            "rtf_avg: 0.846: 100%|\u001b[34m██████████\u001b[0m| 1/1 [00:00<00:00,  1.94it/s]\n"
          ]
        },
        {
          "output_type": "stream",
          "name": "stdout",
          "text": [
            "[{'key': 'rand_key_yqEw3Tpct7Jea', 'text': '们在'}]\n"
          ]
        },
        {
          "output_type": "stream",
          "name": "stderr",
          "text": [
            "rtf_avg: 0.629: 100%|\u001b[34m██████████\u001b[0m| 1/1 [00:00<00:00,  2.60it/s]\n"
          ]
        },
        {
          "output_type": "stream",
          "name": "stdout",
          "text": [
            "[{'key': 'rand_key_DFUCd6ZAFDChf', 'text': '整个店铺的'}]\n"
          ]
        },
        {
          "output_type": "stream",
          "name": "stderr",
          "text": [
            "rtf_avg: 0.626: 100%|\u001b[34m██████████\u001b[0m| 1/1 [00:00<00:00,  2.58it/s]\n"
          ]
        },
        {
          "output_type": "stream",
          "name": "stdout",
          "text": [
            "[{'key': 'rand_key_fpg0WjA46nCNe', 'text': '这个活动当'}]\n"
          ]
        },
        {
          "output_type": "stream",
          "name": "stderr",
          "text": [
            "rtf_avg: 0.663: 100%|\u001b[34m██████████\u001b[0m| 1/1 [00:00<00:00,  2.45it/s]\n"
          ]
        },
        {
          "output_type": "stream",
          "name": "stdout",
          "text": [
            "[{'key': 'rand_key_0BJW41zc9lpFo', 'text': '中我们要学'}]\n"
          ]
        },
        {
          "output_type": "stream",
          "name": "stderr",
          "text": [
            "rtf_avg: 0.628: 100%|\u001b[34m██████████\u001b[0m| 1/1 [00:00<00:00,  2.60it/s]\n"
          ]
        },
        {
          "output_type": "stream",
          "name": "stdout",
          "text": [
            "[{'key': 'rand_key_i13r7wuBgJ5sN', 'text': '会换位思'}]\n"
          ]
        },
        {
          "output_type": "stream",
          "name": "stderr",
          "text": [
            "rtf_avg: 1.200: 100%|\u001b[34m██████████\u001b[0m| 1/1 [00:00<00:00,  2.71it/s]"
          ]
        },
        {
          "output_type": "stream",
          "name": "stdout",
          "text": [
            "[{'key': 'rand_key_IYmTsXCGMDIOq', 'text': '考其实'}]\n"
          ]
        },
        {
          "output_type": "stream",
          "name": "stderr",
          "text": [
            "\n"
          ]
        }
      ],
      "source": [
        "from funasr import AutoModel\n",
        "\n",
        "chunk_size = [0, 10, 5] #[0, 10, 5] 600ms, [0, 8, 4] 480ms\n",
        "encoder_chunk_look_back = 4 #number of chunks to lookback for encoder self-attention\n",
        "decoder_chunk_look_back = 1 #number of encoder chunks to lookback for decoder cross-attention\n",
        "\n",
        "model = AutoModel(model=\"paraformer-zh-streaming\", model_revision=\"v2.0.4\"#,\n",
        "                  #vad_model=\"fsmn-vad\", vad_model_revision=\"v2.0.4\",\n",
        "                  #punc_model=\"ct-punc-c\", punc_model_revision=\"v2.0.4\",\n",
        "                  # spk_model=\"cam++\", spk_model_revision=\"v2.0.2\",\n",
        "                  )\n",
        "\n",
        "import soundfile\n",
        "import os\n",
        "\n",
        "#wav_file = os.path.join(model.model_path, \"example/asr_example.wav\")\n",
        "wav_file = \"./FSMN-VAD/example/vad_example.wav\"\n",
        "speech, sample_rate = soundfile.read(wav_file)\n",
        "chunk_stride = chunk_size[1] * 960 # 600ms\n",
        "\n",
        "cache = {}\n",
        "total_chunk_num = int(len((speech)-1)/chunk_stride+1)\n",
        "for i in range(total_chunk_num):\n",
        "    speech_chunk = speech[i*chunk_stride:(i+1)*chunk_stride]\n",
        "    is_final = i == total_chunk_num - 1\n",
        "    res = model.generate(input=speech_chunk, cache=cache, is_final=is_final, chunk_size=chunk_size, encoder_chunk_look_back=encoder_chunk_look_back, decoder_chunk_look_back=decoder_chunk_look_back)\n",
        "    print(res)"
      ]
    },
    {
      "cell_type": "code",
      "execution_count": null,
      "metadata": {
        "id": "cShX1D2i07L0"
      },
      "outputs": [],
      "source": [
        "print(model.model_path)"
      ]
    },
    {
      "cell_type": "markdown",
      "metadata": {
        "id": "vntHOAYFN7An"
      },
      "source": [
        "**Voice Activity Detection (Non-Streaming)**"
      ]
    },
    {
      "cell_type": "code",
      "execution_count": 8,
      "metadata": {
        "colab": {
          "base_uri": "https://localhost:8080/"
        },
        "id": "b5B5fVaAN-Mz",
        "outputId": "1c8b224c-a195-49be-a19d-7ada3e87af1f"
      },
      "outputs": [
        {
          "output_type": "stream",
          "name": "stdout",
          "text": [
            "funasr version: 1.1.6.\n",
            "Check update of funasr, and it would cost few times. You may disable it by set `disable_update=True` in AutoModel\n",
            "You are using the latest version of funasr-1.1.6\n"
          ]
        },
        {
          "output_type": "stream",
          "name": "stderr",
          "text": [
            "2024-08-27 04:18:39,760 - modelscope - INFO - Use user-specified model revision: v2.0.4\n",
            "rtf_avg: 0.097: 100%|\u001b[34m██████████\u001b[0m| 1/1 [00:01<00:00,  1.02s/it]"
          ]
        },
        {
          "output_type": "stream",
          "name": "stdout",
          "text": [
            "[{'key': 'vad_example', 'value': [[70, 2340], [2620, 6200], [6480, 23670], [23950, 26250], [26780, 28990], [29950, 31430], [31750, 37600], [38210, 46900], [47310, 49630], [49910, 56460], [56740, 59540], [59820, 70450]]}]\n"
          ]
        },
        {
          "output_type": "stream",
          "name": "stderr",
          "text": [
            "\n"
          ]
        }
      ],
      "source": [
        "from funasr import AutoModel\n",
        "\n",
        "model = AutoModel(model=\"fsmn-vad\", model_revision=\"v2.0.4\")\n",
        "#wav_file = f\"{model.model_path}/example/asr_example.wav\"\n",
        "wav_file = \"./FSMN-VAD/example/vad_example.wav\"\n",
        "res = model.generate(input=wav_file,data_type=(\"sound\"))\n",
        "print(res)"
      ]
    },
    {
      "cell_type": "markdown",
      "metadata": {
        "id": "V822CYctOAFt"
      },
      "source": [
        "**Voice Activity Detection (Streaming)**"
      ]
    },
    {
      "cell_type": "code",
      "execution_count": 9,
      "metadata": {
        "colab": {
          "base_uri": "https://localhost:8080/"
        },
        "id": "FUmpdZjFNMwA",
        "outputId": "a34eba36-2cf9-4efe-8ca7-4d3d241d2b10"
      },
      "outputs": [
        {
          "output_type": "stream",
          "name": "stdout",
          "text": [
            "funasr version: 1.1.6.\n",
            "Check update of funasr, and it would cost few times. You may disable it by set `disable_update=True` in AutoModel\n",
            "You are using the latest version of funasr-1.1.6\n"
          ]
        },
        {
          "output_type": "stream",
          "name": "stderr",
          "text": [
            "2024-08-27 04:18:42,191 - modelscope - INFO - Use user-specified model revision: v2.0.4\n",
            "rtf_avg: 0.086: 100%|\u001b[34m██████████\u001b[0m| 1/1 [00:00<00:00, 52.45it/s]\n",
            "rtf_avg: 0.073: 100%|\u001b[34m██████████\u001b[0m| 1/1 [00:00<00:00, 49.84it/s]\n",
            "rtf_avg: 0.069: 100%|\u001b[34m██████████\u001b[0m| 1/1 [00:00<00:00, 49.64it/s]\n"
          ]
        },
        {
          "output_type": "stream",
          "name": "stdout",
          "text": [
            "[{'key': 'rand_key_WgNZq6ITZM5jt', 'value': [[70, -1]]}]\n"
          ]
        },
        {
          "output_type": "stream",
          "name": "stderr",
          "text": [
            "rtf_avg: 0.078: 100%|\u001b[34m██████████\u001b[0m| 1/1 [00:00<00:00, 51.15it/s]\n",
            "rtf_avg: 0.066: 100%|\u001b[34m██████████\u001b[0m| 1/1 [00:00<00:00, 52.94it/s]\n",
            "rtf_avg: 0.063: 100%|\u001b[34m██████████\u001b[0m| 1/1 [00:00<00:00, 62.03it/s]\n",
            "rtf_avg: 0.057: 100%|\u001b[34m██████████\u001b[0m| 1/1 [00:00<00:00, 59.07it/s]\n",
            "rtf_avg: 0.083: 100%|\u001b[34m██████████\u001b[0m| 1/1 [00:00<00:00, 45.04it/s]\n",
            "rtf_avg: 0.096: 100%|\u001b[34m██████████\u001b[0m| 1/1 [00:00<00:00, 41.49it/s]\n",
            "rtf_avg: 0.073: 100%|\u001b[34m██████████\u001b[0m| 1/1 [00:00<00:00, 51.01it/s]\n",
            "rtf_avg: 0.063: 100%|\u001b[34m██████████\u001b[0m| 1/1 [00:00<00:00, 62.46it/s]\n",
            "rtf_avg: 0.067: 100%|\u001b[34m██████████\u001b[0m| 1/1 [00:00<00:00, 55.47it/s]\n",
            "rtf_avg: 0.099: 100%|\u001b[34m██████████\u001b[0m| 1/1 [00:00<00:00, 38.06it/s]\n",
            "rtf_avg: 0.066: 100%|\u001b[34m██████████\u001b[0m| 1/1 [00:00<00:00, 56.04it/s]\n",
            "rtf_avg: 0.078: 100%|\u001b[34m██████████\u001b[0m| 1/1 [00:00<00:00, 48.16it/s]\n"
          ]
        },
        {
          "output_type": "stream",
          "name": "stdout",
          "text": [
            "[{'key': 'rand_key_PS6YwfuNhFLOv', 'value': [[-1, 2340]]}]\n"
          ]
        },
        {
          "output_type": "stream",
          "name": "stderr",
          "text": [
            "rtf_avg: 0.072: 100%|\u001b[34m██████████\u001b[0m| 1/1 [00:00<00:00, 54.02it/s]\n"
          ]
        },
        {
          "output_type": "stream",
          "name": "stdout",
          "text": [
            "[{'key': 'rand_key_2mpbUrhToxYkv', 'value': [[2620, -1]]}]\n"
          ]
        },
        {
          "output_type": "stream",
          "name": "stderr",
          "text": [
            "rtf_avg: 0.077: 100%|\u001b[34m██████████\u001b[0m| 1/1 [00:00<00:00, 45.15it/s]\n",
            "rtf_avg: 0.079: 100%|\u001b[34m██████████\u001b[0m| 1/1 [00:00<00:00, 46.18it/s]\n",
            "rtf_avg: 0.145: 100%|\u001b[34m██████████\u001b[0m| 1/1 [00:00<00:00, 28.61it/s]\n",
            "rtf_avg: 0.083: 100%|\u001b[34m██████████\u001b[0m| 1/1 [00:00<00:00, 46.76it/s]\n",
            "rtf_avg: 0.072: 100%|\u001b[34m██████████\u001b[0m| 1/1 [00:00<00:00, 51.35it/s]\n",
            "rtf_avg: 0.057: 100%|\u001b[34m██████████\u001b[0m| 1/1 [00:00<00:00, 59.87it/s]\n",
            "rtf_avg: 0.057: 100%|\u001b[34m██████████\u001b[0m| 1/1 [00:00<00:00, 44.79it/s]\n",
            "rtf_avg: 0.069: 100%|\u001b[34m██████████\u001b[0m| 1/1 [00:00<00:00, 53.59it/s]\n",
            "rtf_avg: 0.087: 100%|\u001b[34m██████████\u001b[0m| 1/1 [00:00<00:00, 46.89it/s]\n",
            "rtf_avg: 0.065: 100%|\u001b[34m██████████\u001b[0m| 1/1 [00:00<00:00, 57.02it/s]\n",
            "rtf_avg: 0.095: 100%|\u001b[34m██████████\u001b[0m| 1/1 [00:00<00:00, 42.89it/s]\n",
            "rtf_avg: 0.067: 100%|\u001b[34m██████████\u001b[0m| 1/1 [00:00<00:00, 55.99it/s]\n",
            "rtf_avg: 0.100: 100%|\u001b[34m██████████\u001b[0m| 1/1 [00:00<00:00, 39.34it/s]\n",
            "rtf_avg: 0.066: 100%|\u001b[34m██████████\u001b[0m| 1/1 [00:00<00:00, 57.39it/s]\n",
            "rtf_avg: 0.125: 100%|\u001b[34m██████████\u001b[0m| 1/1 [00:00<00:00, 30.64it/s]\n",
            "rtf_avg: 0.085: 100%|\u001b[34m██████████\u001b[0m| 1/1 [00:00<00:00, 45.73it/s]\n",
            "rtf_avg: 0.090: 100%|\u001b[34m██████████\u001b[0m| 1/1 [00:00<00:00, 41.50it/s]\n",
            "rtf_avg: 0.093: 100%|\u001b[34m██████████\u001b[0m| 1/1 [00:00<00:00, 35.80it/s]\n"
          ]
        },
        {
          "output_type": "stream",
          "name": "stdout",
          "text": [
            "[{'key': 'rand_key_AuanaTWa0RHNg', 'value': [[-1, 6200]]}]\n"
          ]
        },
        {
          "output_type": "stream",
          "name": "stderr",
          "text": [
            "rtf_avg: 0.123: 100%|\u001b[34m██████████\u001b[0m| 1/1 [00:00<00:00, 32.08it/s]\n"
          ]
        },
        {
          "output_type": "stream",
          "name": "stdout",
          "text": [
            "[{'key': 'rand_key_mhMPm3trSlgE2', 'value': [[6480, -1]]}]\n"
          ]
        },
        {
          "output_type": "stream",
          "name": "stderr",
          "text": [
            "rtf_avg: 0.154: 100%|\u001b[34m██████████\u001b[0m| 1/1 [00:00<00:00, 27.99it/s]\n",
            "rtf_avg: 0.139: 100%|\u001b[34m██████████\u001b[0m| 1/1 [00:00<00:00, 30.55it/s]\n",
            "rtf_avg: 0.125: 100%|\u001b[34m██████████\u001b[0m| 1/1 [00:00<00:00, 32.65it/s]\n",
            "rtf_avg: 0.130: 100%|\u001b[34m██████████\u001b[0m| 1/1 [00:00<00:00, 28.10it/s]\n",
            "rtf_avg: 0.086: 100%|\u001b[34m██████████\u001b[0m| 1/1 [00:00<00:00, 42.92it/s]\n",
            "rtf_avg: 0.134: 100%|\u001b[34m██████████\u001b[0m| 1/1 [00:00<00:00, 31.54it/s]\n",
            "rtf_avg: 0.095: 100%|\u001b[34m██████████\u001b[0m| 1/1 [00:00<00:00, 36.92it/s]\n",
            "rtf_avg: 0.099: 100%|\u001b[34m██████████\u001b[0m| 1/1 [00:00<00:00, 32.85it/s]\n",
            "rtf_avg: 0.114: 100%|\u001b[34m██████████\u001b[0m| 1/1 [00:00<00:00, 29.82it/s]\n",
            "rtf_avg: 0.102: 100%|\u001b[34m██████████\u001b[0m| 1/1 [00:00<00:00, 37.39it/s]\n",
            "rtf_avg: 0.087: 100%|\u001b[34m██████████\u001b[0m| 1/1 [00:00<00:00, 40.41it/s]\n",
            "rtf_avg: 0.152: 100%|\u001b[34m██████████\u001b[0m| 1/1 [00:00<00:00, 28.99it/s]\n",
            "rtf_avg: 0.080: 100%|\u001b[34m██████████\u001b[0m| 1/1 [00:00<00:00, 45.04it/s]\n",
            "rtf_avg: 0.122: 100%|\u001b[34m██████████\u001b[0m| 1/1 [00:00<00:00, 35.42it/s]\n",
            "rtf_avg: 0.123: 100%|\u001b[34m██████████\u001b[0m| 1/1 [00:00<00:00, 30.32it/s]\n",
            "rtf_avg: 0.114: 100%|\u001b[34m██████████\u001b[0m| 1/1 [00:00<00:00, 30.67it/s]\n",
            "rtf_avg: 0.103: 100%|\u001b[34m██████████\u001b[0m| 1/1 [00:00<00:00, 36.02it/s]\n",
            "rtf_avg: 0.103: 100%|\u001b[34m██████████\u001b[0m| 1/1 [00:00<00:00, 34.15it/s]\n",
            "rtf_avg: 0.115: 100%|\u001b[34m██████████\u001b[0m| 1/1 [00:00<00:00, 33.29it/s]\n",
            "rtf_avg: 0.110: 100%|\u001b[34m██████████\u001b[0m| 1/1 [00:00<00:00, 33.29it/s]\n",
            "rtf_avg: 0.115: 100%|\u001b[34m██████████\u001b[0m| 1/1 [00:00<00:00, 33.59it/s]\n",
            "rtf_avg: 0.115: 100%|\u001b[34m██████████\u001b[0m| 1/1 [00:00<00:00, 35.20it/s]\n",
            "rtf_avg: 0.118: 100%|\u001b[34m██████████\u001b[0m| 1/1 [00:00<00:00, 30.83it/s]\n",
            "rtf_avg: 0.101: 100%|\u001b[34m██████████\u001b[0m| 1/1 [00:00<00:00, 34.04it/s]\n",
            "rtf_avg: 0.111: 100%|\u001b[34m██████████\u001b[0m| 1/1 [00:00<00:00, 32.40it/s]\n",
            "rtf_avg: 0.104: 100%|\u001b[34m██████████\u001b[0m| 1/1 [00:00<00:00, 33.84it/s]\n",
            "rtf_avg: 0.109: 100%|\u001b[34m██████████\u001b[0m| 1/1 [00:00<00:00, 31.57it/s]\n",
            "rtf_avg: 0.114: 100%|\u001b[34m██████████\u001b[0m| 1/1 [00:00<00:00, 32.78it/s]\n",
            "rtf_avg: 0.102: 100%|\u001b[34m██████████\u001b[0m| 1/1 [00:00<00:00, 36.93it/s]\n",
            "rtf_avg: 0.104: 100%|\u001b[34m██████████\u001b[0m| 1/1 [00:00<00:00, 35.67it/s]\n",
            "rtf_avg: 0.114: 100%|\u001b[34m██████████\u001b[0m| 1/1 [00:00<00:00, 33.54it/s]\n",
            "rtf_avg: 0.088: 100%|\u001b[34m██████████\u001b[0m| 1/1 [00:00<00:00, 39.71it/s]\n",
            "rtf_avg: 0.095: 100%|\u001b[34m██████████\u001b[0m| 1/1 [00:00<00:00, 31.98it/s]\n",
            "rtf_avg: 0.118: 100%|\u001b[34m██████████\u001b[0m| 1/1 [00:00<00:00, 32.68it/s]\n",
            "rtf_avg: 0.118: 100%|\u001b[34m██████████\u001b[0m| 1/1 [00:00<00:00, 33.09it/s]\n",
            "rtf_avg: 0.119: 100%|\u001b[34m██████████\u001b[0m| 1/1 [00:00<00:00, 34.59it/s]\n",
            "rtf_avg: 0.100: 100%|\u001b[34m██████████\u001b[0m| 1/1 [00:00<00:00, 38.40it/s]\n",
            "rtf_avg: 0.080: 100%|\u001b[34m██████████\u001b[0m| 1/1 [00:00<00:00, 41.75it/s]\n",
            "rtf_avg: 0.109: 100%|\u001b[34m██████████\u001b[0m| 1/1 [00:00<00:00, 35.97it/s]\n",
            "rtf_avg: 0.098: 100%|\u001b[34m██████████\u001b[0m| 1/1 [00:00<00:00, 39.29it/s]\n",
            "rtf_avg: 0.082: 100%|\u001b[34m██████████\u001b[0m| 1/1 [00:00<00:00, 39.99it/s]\n",
            "rtf_avg: 0.092: 100%|\u001b[34m██████████\u001b[0m| 1/1 [00:00<00:00, 40.62it/s]\n",
            "rtf_avg: 0.081: 100%|\u001b[34m██████████\u001b[0m| 1/1 [00:00<00:00, 45.94it/s]\n",
            "rtf_avg: 0.079: 100%|\u001b[34m██████████\u001b[0m| 1/1 [00:00<00:00, 47.83it/s]\n",
            "rtf_avg: 0.074: 100%|\u001b[34m██████████\u001b[0m| 1/1 [00:00<00:00, 49.49it/s]\n",
            "rtf_avg: 0.080: 100%|\u001b[34m██████████\u001b[0m| 1/1 [00:00<00:00, 40.56it/s]\n",
            "rtf_avg: 0.084: 100%|\u001b[34m██████████\u001b[0m| 1/1 [00:00<00:00, 43.40it/s]\n",
            "rtf_avg: 0.083: 100%|\u001b[34m██████████\u001b[0m| 1/1 [00:00<00:00, 43.04it/s]\n",
            "rtf_avg: 0.086: 100%|\u001b[34m██████████\u001b[0m| 1/1 [00:00<00:00, 43.91it/s]\n",
            "rtf_avg: 0.083: 100%|\u001b[34m██████████\u001b[0m| 1/1 [00:00<00:00, 44.75it/s]\n",
            "rtf_avg: 0.080: 100%|\u001b[34m██████████\u001b[0m| 1/1 [00:00<00:00, 42.44it/s]\n",
            "rtf_avg: 0.090: 100%|\u001b[34m██████████\u001b[0m| 1/1 [00:00<00:00, 42.49it/s]\n",
            "rtf_avg: 0.081: 100%|\u001b[34m██████████\u001b[0m| 1/1 [00:00<00:00, 45.78it/s]\n",
            "rtf_avg: 0.093: 100%|\u001b[34m██████████\u001b[0m| 1/1 [00:00<00:00, 40.20it/s]\n",
            "rtf_avg: 0.095: 100%|\u001b[34m██████████\u001b[0m| 1/1 [00:00<00:00, 35.54it/s]\n",
            "rtf_avg: 0.114: 100%|\u001b[34m██████████\u001b[0m| 1/1 [00:00<00:00, 34.05it/s]\n",
            "rtf_avg: 0.111: 100%|\u001b[34m██████████\u001b[0m| 1/1 [00:00<00:00, 35.34it/s]\n",
            "rtf_avg: 0.118: 100%|\u001b[34m██████████\u001b[0m| 1/1 [00:00<00:00, 34.07it/s]\n",
            "rtf_avg: 0.114: 100%|\u001b[34m██████████\u001b[0m| 1/1 [00:00<00:00, 33.81it/s]\n",
            "rtf_avg: 0.118: 100%|\u001b[34m██████████\u001b[0m| 1/1 [00:00<00:00, 33.75it/s]\n",
            "rtf_avg: 0.136: 100%|\u001b[34m██████████\u001b[0m| 1/1 [00:00<00:00, 26.87it/s]\n",
            "rtf_avg: 0.113: 100%|\u001b[34m██████████\u001b[0m| 1/1 [00:00<00:00, 29.15it/s]\n",
            "rtf_avg: 0.095: 100%|\u001b[34m██████████\u001b[0m| 1/1 [00:00<00:00, 36.52it/s]\n",
            "rtf_avg: 0.108: 100%|\u001b[34m██████████\u001b[0m| 1/1 [00:00<00:00, 32.34it/s]\n",
            "rtf_avg: 0.117: 100%|\u001b[34m██████████\u001b[0m| 1/1 [00:00<00:00, 31.06it/s]\n",
            "rtf_avg: 0.115: 100%|\u001b[34m██████████\u001b[0m| 1/1 [00:00<00:00, 29.07it/s]\n",
            "rtf_avg: 0.141: 100%|\u001b[34m██████████\u001b[0m| 1/1 [00:00<00:00, 27.15it/s]\n",
            "rtf_avg: 0.110: 100%|\u001b[34m██████████\u001b[0m| 1/1 [00:00<00:00, 36.51it/s]\n",
            "rtf_avg: 0.093: 100%|\u001b[34m██████████\u001b[0m| 1/1 [00:00<00:00, 44.35it/s]\n",
            "rtf_avg: 0.105: 100%|\u001b[34m██████████\u001b[0m| 1/1 [00:00<00:00, 38.43it/s]\n",
            "rtf_avg: 0.107: 100%|\u001b[34m██████████\u001b[0m| 1/1 [00:00<00:00, 37.95it/s]\n",
            "rtf_avg: 0.097: 100%|\u001b[34m██████████\u001b[0m| 1/1 [00:00<00:00, 38.21it/s]\n",
            "rtf_avg: 0.098: 100%|\u001b[34m██████████\u001b[0m| 1/1 [00:00<00:00, 42.78it/s]\n",
            "rtf_avg: 0.116: 100%|\u001b[34m██████████\u001b[0m| 1/1 [00:00<00:00, 35.81it/s]\n",
            "rtf_avg: 0.126: 100%|\u001b[34m██████████\u001b[0m| 1/1 [00:00<00:00, 30.29it/s]\n",
            "rtf_avg: 0.119: 100%|\u001b[34m██████████\u001b[0m| 1/1 [00:00<00:00, 34.30it/s]\n",
            "rtf_avg: 0.117: 100%|\u001b[34m██████████\u001b[0m| 1/1 [00:00<00:00, 36.67it/s]\n",
            "rtf_avg: 0.102: 100%|\u001b[34m██████████\u001b[0m| 1/1 [00:00<00:00, 39.83it/s]\n",
            "rtf_avg: 0.110: 100%|\u001b[34m██████████\u001b[0m| 1/1 [00:00<00:00, 38.37it/s]\n",
            "rtf_avg: 0.102: 100%|\u001b[34m██████████\u001b[0m| 1/1 [00:00<00:00, 38.91it/s]\n",
            "rtf_avg: 0.106: 100%|\u001b[34m██████████\u001b[0m| 1/1 [00:00<00:00, 39.21it/s]\n",
            "rtf_avg: 0.162: 100%|\u001b[34m██████████\u001b[0m| 1/1 [00:00<00:00, 27.51it/s]\n",
            "rtf_avg: 0.116: 100%|\u001b[34m██████████\u001b[0m| 1/1 [00:00<00:00, 30.58it/s]\n",
            "rtf_avg: 0.132: 100%|\u001b[34m██████████\u001b[0m| 1/1 [00:00<00:00, 27.53it/s]\n",
            "rtf_avg: 0.120: 100%|\u001b[34m██████████\u001b[0m| 1/1 [00:00<00:00, 33.06it/s]\n",
            "rtf_avg: 0.164: 100%|\u001b[34m██████████\u001b[0m| 1/1 [00:00<00:00, 23.76it/s]\n",
            "rtf_avg: 0.145: 100%|\u001b[34m██████████\u001b[0m| 1/1 [00:00<00:00, 28.97it/s]\n"
          ]
        },
        {
          "output_type": "stream",
          "name": "stdout",
          "text": [
            "[{'key': 'rand_key_oV15peHtRuoxO', 'value': [[-1, 23670], [23950, -1]]}]\n"
          ]
        },
        {
          "output_type": "stream",
          "name": "stderr",
          "text": [
            "rtf_avg: 0.108: 100%|\u001b[34m██████████\u001b[0m| 1/1 [00:00<00:00, 28.35it/s]\n",
            "rtf_avg: 0.114: 100%|\u001b[34m██████████\u001b[0m| 1/1 [00:00<00:00, 32.04it/s]\n",
            "rtf_avg: 0.104: 100%|\u001b[34m██████████\u001b[0m| 1/1 [00:00<00:00, 32.45it/s]\n",
            "rtf_avg: 0.120: 100%|\u001b[34m██████████\u001b[0m| 1/1 [00:00<00:00, 31.09it/s]\n",
            "rtf_avg: 0.104: 100%|\u001b[34m██████████\u001b[0m| 1/1 [00:00<00:00, 31.90it/s]\n",
            "rtf_avg: 0.125: 100%|\u001b[34m██████████\u001b[0m| 1/1 [00:00<00:00, 28.78it/s]\n",
            "rtf_avg: 0.094: 100%|\u001b[34m██████████\u001b[0m| 1/1 [00:00<00:00, 38.00it/s]\n",
            "rtf_avg: 0.133: 100%|\u001b[34m██████████\u001b[0m| 1/1 [00:00<00:00, 29.85it/s]\n",
            "rtf_avg: 0.120: 100%|\u001b[34m██████████\u001b[0m| 1/1 [00:00<00:00, 33.46it/s]\n",
            "rtf_avg: 0.104: 100%|\u001b[34m██████████\u001b[0m| 1/1 [00:00<00:00, 36.41it/s]\n",
            "rtf_avg: 0.123: 100%|\u001b[34m██████████\u001b[0m| 1/1 [00:00<00:00, 34.01it/s]\n",
            "rtf_avg: 0.116: 100%|\u001b[34m██████████\u001b[0m| 1/1 [00:00<00:00, 34.34it/s]\n",
            "rtf_avg: 0.132: 100%|\u001b[34m██████████\u001b[0m| 1/1 [00:00<00:00, 29.85it/s]\n"
          ]
        },
        {
          "output_type": "stream",
          "name": "stdout",
          "text": [
            "[{'key': 'rand_key_qIIZVRTDWcK6h', 'value': [[-1, 26250]]}]\n"
          ]
        },
        {
          "output_type": "stream",
          "name": "stderr",
          "text": [
            "rtf_avg: 0.149: 100%|\u001b[34m██████████\u001b[0m| 1/1 [00:00<00:00, 28.61it/s]\n",
            "rtf_avg: 0.102: 100%|\u001b[34m██████████\u001b[0m| 1/1 [00:00<00:00, 35.48it/s]\n"
          ]
        },
        {
          "output_type": "stream",
          "name": "stdout",
          "text": [
            "[{'key': 'rand_key_Sjfvp110lp8b9', 'value': [[26780, -1]]}]\n"
          ]
        },
        {
          "output_type": "stream",
          "name": "stderr",
          "text": [
            "rtf_avg: 0.110: 100%|\u001b[34m██████████\u001b[0m| 1/1 [00:00<00:00, 34.10it/s]\n",
            "rtf_avg: 0.108: 100%|\u001b[34m██████████\u001b[0m| 1/1 [00:00<00:00, 38.23it/s]\n",
            "rtf_avg: 0.092: 100%|\u001b[34m██████████\u001b[0m| 1/1 [00:00<00:00, 39.36it/s]\n",
            "rtf_avg: 0.099: 100%|\u001b[34m██████████\u001b[0m| 1/1 [00:00<00:00, 40.71it/s]\n",
            "rtf_avg: 0.086: 100%|\u001b[34m██████████\u001b[0m| 1/1 [00:00<00:00, 43.26it/s]\n",
            "rtf_avg: 0.124: 100%|\u001b[34m██████████\u001b[0m| 1/1 [00:00<00:00, 33.93it/s]\n",
            "rtf_avg: 0.104: 100%|\u001b[34m██████████\u001b[0m| 1/1 [00:00<00:00, 36.51it/s]\n",
            "rtf_avg: 0.103: 100%|\u001b[34m██████████\u001b[0m| 1/1 [00:00<00:00, 32.75it/s]\n",
            "rtf_avg: 0.103: 100%|\u001b[34m██████████\u001b[0m| 1/1 [00:00<00:00, 31.80it/s]\n",
            "rtf_avg: 0.121: 100%|\u001b[34m██████████\u001b[0m| 1/1 [00:00<00:00, 30.50it/s]\n",
            "rtf_avg: 0.083: 100%|\u001b[34m██████████\u001b[0m| 1/1 [00:00<00:00, 39.69it/s]\n"
          ]
        },
        {
          "output_type": "stream",
          "name": "stdout",
          "text": [
            "[{'key': 'rand_key_Kj8wxsOsuFYzM', 'value': [[-1, 28990]]}]\n"
          ]
        },
        {
          "output_type": "stream",
          "name": "stderr",
          "text": [
            "rtf_avg: 0.096: 100%|\u001b[34m██████████\u001b[0m| 1/1 [00:00<00:00, 33.92it/s]\n",
            "rtf_avg: 0.110: 100%|\u001b[34m██████████\u001b[0m| 1/1 [00:00<00:00, 31.13it/s]\n",
            "rtf_avg: 0.119: 100%|\u001b[34m██████████\u001b[0m| 1/1 [00:00<00:00, 32.24it/s]\n",
            "rtf_avg: 0.119: 100%|\u001b[34m██████████\u001b[0m| 1/1 [00:00<00:00, 34.81it/s]\n"
          ]
        },
        {
          "output_type": "stream",
          "name": "stdout",
          "text": [
            "[{'key': 'rand_key_Lh8GOYIMyWBrt', 'value': [[29950, -1]]}]\n"
          ]
        },
        {
          "output_type": "stream",
          "name": "stderr",
          "text": [
            "rtf_avg: 0.162: 100%|\u001b[34m██████████\u001b[0m| 1/1 [00:00<00:00, 24.30it/s]\n",
            "rtf_avg: 0.119: 100%|\u001b[34m██████████\u001b[0m| 1/1 [00:00<00:00, 31.34it/s]\n",
            "rtf_avg: 0.101: 100%|\u001b[34m██████████\u001b[0m| 1/1 [00:00<00:00, 33.13it/s]\n",
            "rtf_avg: 0.129: 100%|\u001b[34m██████████\u001b[0m| 1/1 [00:00<00:00, 27.36it/s]\n",
            "rtf_avg: 0.119: 100%|\u001b[34m██████████\u001b[0m| 1/1 [00:00<00:00, 29.84it/s]\n",
            "rtf_avg: 0.132: 100%|\u001b[34m██████████\u001b[0m| 1/1 [00:00<00:00, 29.30it/s]\n",
            "rtf_avg: 0.138: 100%|\u001b[34m██████████\u001b[0m| 1/1 [00:00<00:00, 30.36it/s]\n",
            "rtf_avg: 0.100: 100%|\u001b[34m██████████\u001b[0m| 1/1 [00:00<00:00, 37.34it/s]\n",
            "rtf_avg: 0.112: 100%|\u001b[34m██████████\u001b[0m| 1/1 [00:00<00:00, 32.06it/s]\n"
          ]
        },
        {
          "output_type": "stream",
          "name": "stdout",
          "text": [
            "[{'key': 'rand_key_uftbFaWqmWzyB', 'value': [[-1, 31430], [31750, -1]]}]\n"
          ]
        },
        {
          "output_type": "stream",
          "name": "stderr",
          "text": [
            "rtf_avg: 0.117: 100%|\u001b[34m██████████\u001b[0m| 1/1 [00:00<00:00, 34.39it/s]\n",
            "rtf_avg: 0.114: 100%|\u001b[34m██████████\u001b[0m| 1/1 [00:00<00:00, 31.82it/s]\n",
            "rtf_avg: 0.100: 100%|\u001b[34m██████████\u001b[0m| 1/1 [00:00<00:00, 39.27it/s]\n",
            "rtf_avg: 0.109: 100%|\u001b[34m██████████\u001b[0m| 1/1 [00:00<00:00, 32.95it/s]\n",
            "rtf_avg: 0.124: 100%|\u001b[34m██████████\u001b[0m| 1/1 [00:00<00:00, 32.33it/s]\n",
            "rtf_avg: 0.087: 100%|\u001b[34m██████████\u001b[0m| 1/1 [00:00<00:00, 42.72it/s]\n",
            "rtf_avg: 0.094: 100%|\u001b[34m██████████\u001b[0m| 1/1 [00:00<00:00, 39.95it/s]\n",
            "rtf_avg: 0.111: 100%|\u001b[34m██████████\u001b[0m| 1/1 [00:00<00:00, 33.54it/s]\n",
            "rtf_avg: 0.088: 100%|\u001b[34m██████████\u001b[0m| 1/1 [00:00<00:00, 38.59it/s]\n",
            "rtf_avg: 0.085: 100%|\u001b[34m██████████\u001b[0m| 1/1 [00:00<00:00, 42.10it/s]\n",
            "rtf_avg: 0.077: 100%|\u001b[34m██████████\u001b[0m| 1/1 [00:00<00:00, 41.98it/s]\n",
            "rtf_avg: 0.085: 100%|\u001b[34m██████████\u001b[0m| 1/1 [00:00<00:00, 42.15it/s]\n",
            "rtf_avg: 0.087: 100%|\u001b[34m██████████\u001b[0m| 1/1 [00:00<00:00, 37.72it/s]\n",
            "rtf_avg: 0.082: 100%|\u001b[34m██████████\u001b[0m| 1/1 [00:00<00:00, 43.58it/s]\n",
            "rtf_avg: 0.093: 100%|\u001b[34m██████████\u001b[0m| 1/1 [00:00<00:00, 36.85it/s]\n",
            "rtf_avg: 0.196: 100%|\u001b[34m██████████\u001b[0m| 1/1 [00:00<00:00, 21.24it/s]\n",
            "rtf_avg: 0.137: 100%|\u001b[34m██████████\u001b[0m| 1/1 [00:00<00:00, 29.81it/s]\n",
            "rtf_avg: 0.115: 100%|\u001b[34m██████████\u001b[0m| 1/1 [00:00<00:00, 36.83it/s]\n",
            "rtf_avg: 0.123: 100%|\u001b[34m██████████\u001b[0m| 1/1 [00:00<00:00, 32.66it/s]\n",
            "rtf_avg: 0.084: 100%|\u001b[34m██████████\u001b[0m| 1/1 [00:00<00:00, 40.05it/s]\n",
            "rtf_avg: 0.096: 100%|\u001b[34m██████████\u001b[0m| 1/1 [00:00<00:00, 37.22it/s]\n",
            "rtf_avg: 0.116: 100%|\u001b[34m██████████\u001b[0m| 1/1 [00:00<00:00, 26.18it/s]\n",
            "rtf_avg: 0.150: 100%|\u001b[34m██████████\u001b[0m| 1/1 [00:00<00:00, 26.52it/s]\n",
            "rtf_avg: 0.122: 100%|\u001b[34m██████████\u001b[0m| 1/1 [00:00<00:00, 32.47it/s]\n",
            "rtf_avg: 0.128: 100%|\u001b[34m██████████\u001b[0m| 1/1 [00:00<00:00, 31.75it/s]\n",
            "rtf_avg: 0.125: 100%|\u001b[34m██████████\u001b[0m| 1/1 [00:00<00:00, 33.52it/s]\n",
            "rtf_avg: 0.161: 100%|\u001b[34m██████████\u001b[0m| 1/1 [00:00<00:00, 24.72it/s]\n",
            "rtf_avg: 0.125: 100%|\u001b[34m██████████\u001b[0m| 1/1 [00:00<00:00, 34.49it/s]\n",
            "rtf_avg: 0.101: 100%|\u001b[34m██████████\u001b[0m| 1/1 [00:00<00:00, 40.94it/s]\n",
            "rtf_avg: 0.131: 100%|\u001b[34m██████████\u001b[0m| 1/1 [00:00<00:00, 33.64it/s]\n"
          ]
        },
        {
          "output_type": "stream",
          "name": "stdout",
          "text": [
            "[{'key': 'rand_key_p7ixGnIzeiAKQ', 'value': [[-1, 37600]]}]\n"
          ]
        },
        {
          "output_type": "stream",
          "name": "stderr",
          "text": [
            "rtf_avg: 0.148: 100%|\u001b[34m██████████\u001b[0m| 1/1 [00:00<00:00, 27.08it/s]\n",
            "rtf_avg: 0.094: 100%|\u001b[34m██████████\u001b[0m| 1/1 [00:00<00:00, 41.62it/s]\n",
            "rtf_avg: 0.065: 100%|\u001b[34m██████████\u001b[0m| 1/1 [00:00<00:00, 53.08it/s]\n"
          ]
        },
        {
          "output_type": "stream",
          "name": "stdout",
          "text": [
            "[{'key': 'rand_key_bMNXE4prcNu3Z', 'value': [[38210, -1]]}]\n"
          ]
        },
        {
          "output_type": "stream",
          "name": "stderr",
          "text": [
            "rtf_avg: 0.079: 100%|\u001b[34m██████████\u001b[0m| 1/1 [00:00<00:00, 39.13it/s]\n",
            "rtf_avg: 0.080: 100%|\u001b[34m██████████\u001b[0m| 1/1 [00:00<00:00, 45.39it/s]\n",
            "rtf_avg: 0.117: 100%|\u001b[34m██████████\u001b[0m| 1/1 [00:00<00:00, 34.70it/s]\n",
            "rtf_avg: 0.086: 100%|\u001b[34m██████████\u001b[0m| 1/1 [00:00<00:00, 44.49it/s]\n",
            "rtf_avg: 0.115: 100%|\u001b[34m██████████\u001b[0m| 1/1 [00:00<00:00, 33.96it/s]\n",
            "rtf_avg: 0.090: 100%|\u001b[34m██████████\u001b[0m| 1/1 [00:00<00:00, 43.06it/s]\n",
            "rtf_avg: 0.116: 100%|\u001b[34m██████████\u001b[0m| 1/1 [00:00<00:00, 33.47it/s]\n",
            "rtf_avg: 0.081: 100%|\u001b[34m██████████\u001b[0m| 1/1 [00:00<00:00, 42.99it/s]\n",
            "rtf_avg: 0.106: 100%|\u001b[34m██████████\u001b[0m| 1/1 [00:00<00:00, 36.27it/s]\n",
            "rtf_avg: 0.098: 100%|\u001b[34m██████████\u001b[0m| 1/1 [00:00<00:00, 38.03it/s]\n",
            "rtf_avg: 0.123: 100%|\u001b[34m██████████\u001b[0m| 1/1 [00:00<00:00, 34.26it/s]\n",
            "rtf_avg: 0.080: 100%|\u001b[34m██████████\u001b[0m| 1/1 [00:00<00:00, 46.31it/s]\n",
            "rtf_avg: 0.103: 100%|\u001b[34m██████████\u001b[0m| 1/1 [00:00<00:00, 37.85it/s]\n",
            "rtf_avg: 0.082: 100%|\u001b[34m██████████\u001b[0m| 1/1 [00:00<00:00, 47.85it/s]\n",
            "rtf_avg: 0.138: 100%|\u001b[34m██████████\u001b[0m| 1/1 [00:00<00:00, 26.57it/s]\n",
            "rtf_avg: 0.081: 100%|\u001b[34m██████████\u001b[0m| 1/1 [00:00<00:00, 42.37it/s]\n",
            "rtf_avg: 0.132: 100%|\u001b[34m██████████\u001b[0m| 1/1 [00:00<00:00, 30.18it/s]\n",
            "rtf_avg: 0.091: 100%|\u001b[34m██████████\u001b[0m| 1/1 [00:00<00:00, 42.38it/s]\n",
            "rtf_avg: 0.103: 100%|\u001b[34m██████████\u001b[0m| 1/1 [00:00<00:00, 36.99it/s]\n",
            "rtf_avg: 0.082: 100%|\u001b[34m██████████\u001b[0m| 1/1 [00:00<00:00, 44.17it/s]\n",
            "rtf_avg: 0.105: 100%|\u001b[34m██████████\u001b[0m| 1/1 [00:00<00:00, 38.62it/s]\n",
            "rtf_avg: 0.109: 100%|\u001b[34m██████████\u001b[0m| 1/1 [00:00<00:00, 33.86it/s]\n",
            "rtf_avg: 0.117: 100%|\u001b[34m██████████\u001b[0m| 1/1 [00:00<00:00, 33.61it/s]\n",
            "rtf_avg: 0.108: 100%|\u001b[34m██████████\u001b[0m| 1/1 [00:00<00:00, 36.68it/s]\n",
            "rtf_avg: 0.133: 100%|\u001b[34m██████████\u001b[0m| 1/1 [00:00<00:00, 27.99it/s]\n",
            "rtf_avg: 0.124: 100%|\u001b[34m██████████\u001b[0m| 1/1 [00:00<00:00, 34.98it/s]\n",
            "rtf_avg: 0.112: 100%|\u001b[34m██████████\u001b[0m| 1/1 [00:00<00:00, 37.94it/s]\n",
            "rtf_avg: 0.112: 100%|\u001b[34m██████████\u001b[0m| 1/1 [00:00<00:00, 37.01it/s]\n",
            "rtf_avg: 0.118: 100%|\u001b[34m██████████\u001b[0m| 1/1 [00:00<00:00, 32.63it/s]\n",
            "rtf_avg: 0.081: 100%|\u001b[34m██████████\u001b[0m| 1/1 [00:00<00:00, 46.27it/s]\n",
            "rtf_avg: 0.101: 100%|\u001b[34m██████████\u001b[0m| 1/1 [00:00<00:00, 41.96it/s]\n",
            "rtf_avg: 0.079: 100%|\u001b[34m██████████\u001b[0m| 1/1 [00:00<00:00, 48.09it/s]\n",
            "rtf_avg: 0.116: 100%|\u001b[34m██████████\u001b[0m| 1/1 [00:00<00:00, 33.83it/s]\n",
            "rtf_avg: 0.084: 100%|\u001b[34m██████████\u001b[0m| 1/1 [00:00<00:00, 43.12it/s]\n",
            "rtf_avg: 0.107: 100%|\u001b[34m██████████\u001b[0m| 1/1 [00:00<00:00, 35.62it/s]\n",
            "rtf_avg: 0.091: 100%|\u001b[34m██████████\u001b[0m| 1/1 [00:00<00:00, 39.48it/s]\n",
            "rtf_avg: 0.091: 100%|\u001b[34m██████████\u001b[0m| 1/1 [00:00<00:00, 38.13it/s]\n",
            "rtf_avg: 0.078: 100%|\u001b[34m██████████\u001b[0m| 1/1 [00:00<00:00, 49.40it/s]\n",
            "rtf_avg: 0.106: 100%|\u001b[34m██████████\u001b[0m| 1/1 [00:00<00:00, 35.71it/s]\n",
            "rtf_avg: 0.105: 100%|\u001b[34m██████████\u001b[0m| 1/1 [00:00<00:00, 36.41it/s]\n",
            "rtf_avg: 0.083: 100%|\u001b[34m██████████\u001b[0m| 1/1 [00:00<00:00, 41.53it/s]\n",
            "rtf_avg: 0.083: 100%|\u001b[34m██████████\u001b[0m| 1/1 [00:00<00:00, 44.80it/s]\n",
            "rtf_avg: 0.074: 100%|\u001b[34m██████████\u001b[0m| 1/1 [00:00<00:00, 46.75it/s]\n",
            "rtf_avg: 0.099: 100%|\u001b[34m██████████\u001b[0m| 1/1 [00:00<00:00, 40.16it/s]\n"
          ]
        },
        {
          "output_type": "stream",
          "name": "stdout",
          "text": [
            "[{'key': 'rand_key_G5CElDJviAqyf', 'value': [[-1, 46900]]}]\n"
          ]
        },
        {
          "output_type": "stream",
          "name": "stderr",
          "text": [
            "rtf_avg: 0.086: 100%|\u001b[34m██████████\u001b[0m| 1/1 [00:00<00:00, 38.59it/s]\n"
          ]
        },
        {
          "output_type": "stream",
          "name": "stdout",
          "text": [
            "[{'key': 'rand_key_KGv003oDpwEX7', 'value': [[47310, -1]]}]\n"
          ]
        },
        {
          "output_type": "stream",
          "name": "stderr",
          "text": [
            "rtf_avg: 0.077: 100%|\u001b[34m██████████\u001b[0m| 1/1 [00:00<00:00, 45.60it/s]\n",
            "rtf_avg: 0.069: 100%|\u001b[34m██████████\u001b[0m| 1/1 [00:00<00:00, 52.84it/s]\n",
            "rtf_avg: 0.087: 100%|\u001b[34m██████████\u001b[0m| 1/1 [00:00<00:00, 41.47it/s]\n",
            "rtf_avg: 0.136: 100%|\u001b[34m██████████\u001b[0m| 1/1 [00:00<00:00, 30.62it/s]\n",
            "rtf_avg: 0.077: 100%|\u001b[34m██████████\u001b[0m| 1/1 [00:00<00:00, 50.32it/s]\n",
            "rtf_avg: 0.089: 100%|\u001b[34m██████████\u001b[0m| 1/1 [00:00<00:00, 41.64it/s]\n",
            "rtf_avg: 0.095: 100%|\u001b[34m██████████\u001b[0m| 1/1 [00:00<00:00, 39.70it/s]\n",
            "rtf_avg: 0.086: 100%|\u001b[34m██████████\u001b[0m| 1/1 [00:00<00:00, 39.73it/s]\n",
            "rtf_avg: 0.095: 100%|\u001b[34m██████████\u001b[0m| 1/1 [00:00<00:00, 40.27it/s]\n",
            "rtf_avg: 0.078: 100%|\u001b[34m██████████\u001b[0m| 1/1 [00:00<00:00, 45.97it/s]\n",
            "rtf_avg: 0.082: 100%|\u001b[34m██████████\u001b[0m| 1/1 [00:00<00:00, 44.90it/s]\n",
            "rtf_avg: 0.088: 100%|\u001b[34m██████████\u001b[0m| 1/1 [00:00<00:00, 41.80it/s]\n",
            "rtf_avg: 0.098: 100%|\u001b[34m██████████\u001b[0m| 1/1 [00:00<00:00, 38.38it/s]\n"
          ]
        },
        {
          "output_type": "stream",
          "name": "stdout",
          "text": [
            "[{'key': 'rand_key_7z8DTIn5xTcbz', 'value': [[-1, 49630], [49910, -1]]}]\n"
          ]
        },
        {
          "output_type": "stream",
          "name": "stderr",
          "text": [
            "rtf_avg: 0.090: 100%|\u001b[34m██████████\u001b[0m| 1/1 [00:00<00:00, 41.01it/s]\n",
            "rtf_avg: 0.103: 100%|\u001b[34m██████████\u001b[0m| 1/1 [00:00<00:00, 41.47it/s]\n",
            "rtf_avg: 0.107: 100%|\u001b[34m██████████\u001b[0m| 1/1 [00:00<00:00, 39.60it/s]\n",
            "rtf_avg: 0.108: 100%|\u001b[34m██████████\u001b[0m| 1/1 [00:00<00:00, 38.30it/s]\n",
            "rtf_avg: 0.094: 100%|\u001b[34m██████████\u001b[0m| 1/1 [00:00<00:00, 40.86it/s]\n",
            "rtf_avg: 0.068: 100%|\u001b[34m██████████\u001b[0m| 1/1 [00:00<00:00, 50.81it/s]\n",
            "rtf_avg: 0.101: 100%|\u001b[34m██████████\u001b[0m| 1/1 [00:00<00:00, 39.20it/s]\n",
            "rtf_avg: 0.077: 100%|\u001b[34m██████████\u001b[0m| 1/1 [00:00<00:00, 44.72it/s]\n",
            "rtf_avg: 0.098: 100%|\u001b[34m██████████\u001b[0m| 1/1 [00:00<00:00, 39.29it/s]\n",
            "rtf_avg: 0.071: 100%|\u001b[34m██████████\u001b[0m| 1/1 [00:00<00:00, 48.58it/s]\n",
            "rtf_avg: 0.125: 100%|\u001b[34m██████████\u001b[0m| 1/1 [00:00<00:00, 30.65it/s]\n",
            "rtf_avg: 0.086: 100%|\u001b[34m██████████\u001b[0m| 1/1 [00:00<00:00, 44.35it/s]\n",
            "rtf_avg: 0.108: 100%|\u001b[34m██████████\u001b[0m| 1/1 [00:00<00:00, 37.43it/s]\n",
            "rtf_avg: 0.086: 100%|\u001b[34m██████████\u001b[0m| 1/1 [00:00<00:00, 44.46it/s]\n",
            "rtf_avg: 0.119: 100%|\u001b[34m██████████\u001b[0m| 1/1 [00:00<00:00, 31.83it/s]\n",
            "rtf_avg: 0.079: 100%|\u001b[34m██████████\u001b[0m| 1/1 [00:00<00:00, 42.32it/s]\n",
            "rtf_avg: 0.091: 100%|\u001b[34m██████████\u001b[0m| 1/1 [00:00<00:00, 39.43it/s]\n",
            "rtf_avg: 0.084: 100%|\u001b[34m██████████\u001b[0m| 1/1 [00:00<00:00, 41.08it/s]\n",
            "rtf_avg: 0.088: 100%|\u001b[34m██████████\u001b[0m| 1/1 [00:00<00:00, 43.61it/s]\n",
            "rtf_avg: 0.084: 100%|\u001b[34m██████████\u001b[0m| 1/1 [00:00<00:00, 44.99it/s]\n",
            "rtf_avg: 0.081: 100%|\u001b[34m██████████\u001b[0m| 1/1 [00:00<00:00, 46.82it/s]\n",
            "rtf_avg: 0.095: 100%|\u001b[34m██████████\u001b[0m| 1/1 [00:00<00:00, 39.87it/s]\n",
            "rtf_avg: 0.090: 100%|\u001b[34m██████████\u001b[0m| 1/1 [00:00<00:00, 40.69it/s]\n",
            "rtf_avg: 0.071: 100%|\u001b[34m██████████\u001b[0m| 1/1 [00:00<00:00, 46.93it/s]\n",
            "rtf_avg: 0.112: 100%|\u001b[34m██████████\u001b[0m| 1/1 [00:00<00:00, 34.09it/s]\n",
            "rtf_avg: 0.081: 100%|\u001b[34m██████████\u001b[0m| 1/1 [00:00<00:00, 41.79it/s]\n",
            "rtf_avg: 0.121: 100%|\u001b[34m██████████\u001b[0m| 1/1 [00:00<00:00, 33.05it/s]\n",
            "rtf_avg: 0.086: 100%|\u001b[34m██████████\u001b[0m| 1/1 [00:00<00:00, 43.69it/s]\n",
            "rtf_avg: 0.107: 100%|\u001b[34m██████████\u001b[0m| 1/1 [00:00<00:00, 37.66it/s]\n",
            "rtf_avg: 0.085: 100%|\u001b[34m██████████\u001b[0m| 1/1 [00:00<00:00, 44.16it/s]\n",
            "rtf_avg: 0.138: 100%|\u001b[34m██████████\u001b[0m| 1/1 [00:00<00:00, 30.21it/s]\n",
            "rtf_avg: 0.095: 100%|\u001b[34m██████████\u001b[0m| 1/1 [00:00<00:00, 41.25it/s]\n",
            "rtf_avg: 0.103: 100%|\u001b[34m██████████\u001b[0m| 1/1 [00:00<00:00, 39.63it/s]\n",
            "rtf_avg: 0.113: 100%|\u001b[34m██████████\u001b[0m| 1/1 [00:00<00:00, 34.43it/s]\n"
          ]
        },
        {
          "output_type": "stream",
          "name": "stdout",
          "text": [
            "[{'key': 'rand_key_cW2dGZeSCpCTX', 'value': [[-1, 56460], [56740, -1]]}]\n"
          ]
        },
        {
          "output_type": "stream",
          "name": "stderr",
          "text": [
            "rtf_avg: 0.093: 100%|\u001b[34m██████████\u001b[0m| 1/1 [00:00<00:00, 39.91it/s]\n",
            "rtf_avg: 0.101: 100%|\u001b[34m██████████\u001b[0m| 1/1 [00:00<00:00, 34.55it/s]\n",
            "rtf_avg: 0.110: 100%|\u001b[34m██████████\u001b[0m| 1/1 [00:00<00:00, 37.33it/s]\n",
            "rtf_avg: 0.091: 100%|\u001b[34m██████████\u001b[0m| 1/1 [00:00<00:00, 43.40it/s]\n",
            "rtf_avg: 0.099: 100%|\u001b[34m██████████\u001b[0m| 1/1 [00:00<00:00, 40.00it/s]\n",
            "rtf_avg: 0.083: 100%|\u001b[34m██████████\u001b[0m| 1/1 [00:00<00:00, 47.34it/s]\n",
            "rtf_avg: 0.098: 100%|\u001b[34m██████████\u001b[0m| 1/1 [00:00<00:00, 40.45it/s]\n",
            "rtf_avg: 0.075: 100%|\u001b[34m██████████\u001b[0m| 1/1 [00:00<00:00, 50.53it/s]\n",
            "rtf_avg: 0.070: 100%|\u001b[34m██████████\u001b[0m| 1/1 [00:00<00:00, 44.00it/s]\n",
            "rtf_avg: 0.062: 100%|\u001b[34m██████████\u001b[0m| 1/1 [00:00<00:00, 60.60it/s]\n",
            "rtf_avg: 0.099: 100%|\u001b[34m██████████\u001b[0m| 1/1 [00:00<00:00, 38.98it/s]\n",
            "rtf_avg: 0.063: 100%|\u001b[34m██████████\u001b[0m| 1/1 [00:00<00:00, 58.34it/s]\n",
            "rtf_avg: 0.100: 100%|\u001b[34m██████████\u001b[0m| 1/1 [00:00<00:00, 40.77it/s]\n",
            "rtf_avg: 0.069: 100%|\u001b[34m██████████\u001b[0m| 1/1 [00:00<00:00, 53.85it/s]\n",
            "rtf_avg: 0.070: 100%|\u001b[34m██████████\u001b[0m| 1/1 [00:00<00:00, 52.63it/s]\n"
          ]
        },
        {
          "output_type": "stream",
          "name": "stdout",
          "text": [
            "[{'key': 'rand_key_O863o5adB5McP', 'value': [[-1, 59540]]}]\n"
          ]
        },
        {
          "output_type": "stream",
          "name": "stderr",
          "text": [
            "rtf_avg: 0.082: 100%|\u001b[34m██████████\u001b[0m| 1/1 [00:00<00:00, 43.50it/s]\n"
          ]
        },
        {
          "output_type": "stream",
          "name": "stdout",
          "text": [
            "[{'key': 'rand_key_PP7iGfAtvO6O7', 'value': [[59820, -1]]}]\n"
          ]
        },
        {
          "output_type": "stream",
          "name": "stderr",
          "text": [
            "rtf_avg: 0.056: 100%|\u001b[34m██████████\u001b[0m| 1/1 [00:00<00:00, 55.52it/s]\n",
            "rtf_avg: 0.093: 100%|\u001b[34m██████████\u001b[0m| 1/1 [00:00<00:00, 42.10it/s]\n",
            "rtf_avg: 0.060: 100%|\u001b[34m██████████\u001b[0m| 1/1 [00:00<00:00, 52.34it/s]\n",
            "rtf_avg: 0.077: 100%|\u001b[34m██████████\u001b[0m| 1/1 [00:00<00:00, 49.45it/s]\n",
            "rtf_avg: 0.064: 100%|\u001b[34m██████████\u001b[0m| 1/1 [00:00<00:00, 54.08it/s]\n",
            "rtf_avg: 0.105: 100%|\u001b[34m██████████\u001b[0m| 1/1 [00:00<00:00, 38.28it/s]\n",
            "rtf_avg: 0.055: 100%|\u001b[34m██████████\u001b[0m| 1/1 [00:00<00:00, 71.32it/s]\n",
            "rtf_avg: 0.100: 100%|\u001b[34m██████████\u001b[0m| 1/1 [00:00<00:00, 40.61it/s]\n",
            "rtf_avg: 0.057: 100%|\u001b[34m██████████\u001b[0m| 1/1 [00:00<00:00, 64.12it/s]\n",
            "rtf_avg: 0.075: 100%|\u001b[34m██████████\u001b[0m| 1/1 [00:00<00:00, 54.74it/s]\n",
            "rtf_avg: 0.089: 100%|\u001b[34m██████████\u001b[0m| 1/1 [00:00<00:00, 42.92it/s]\n",
            "rtf_avg: 0.059: 100%|\u001b[34m██████████\u001b[0m| 1/1 [00:00<00:00, 60.74it/s]\n",
            "rtf_avg: 0.091: 100%|\u001b[34m██████████\u001b[0m| 1/1 [00:00<00:00, 42.48it/s]\n",
            "rtf_avg: 0.090: 100%|\u001b[34m██████████\u001b[0m| 1/1 [00:00<00:00, 42.66it/s]\n",
            "rtf_avg: 0.106: 100%|\u001b[34m██████████\u001b[0m| 1/1 [00:00<00:00, 35.85it/s]\n",
            "rtf_avg: 0.082: 100%|\u001b[34m██████████\u001b[0m| 1/1 [00:00<00:00, 44.79it/s]\n",
            "rtf_avg: 0.070: 100%|\u001b[34m██████████\u001b[0m| 1/1 [00:00<00:00, 51.24it/s]\n",
            "rtf_avg: 0.067: 100%|\u001b[34m██████████\u001b[0m| 1/1 [00:00<00:00, 53.53it/s]\n",
            "rtf_avg: 0.068: 100%|\u001b[34m██████████\u001b[0m| 1/1 [00:00<00:00, 46.98it/s]\n",
            "rtf_avg: 0.071: 100%|\u001b[34m██████████\u001b[0m| 1/1 [00:00<00:00, 46.47it/s]\n",
            "rtf_avg: 0.127: 100%|\u001b[34m██████████\u001b[0m| 1/1 [00:00<00:00, 32.71it/s]\n",
            "rtf_avg: 0.109: 100%|\u001b[34m██████████\u001b[0m| 1/1 [00:00<00:00, 36.65it/s]\n",
            "rtf_avg: 0.131: 100%|\u001b[34m██████████\u001b[0m| 1/1 [00:00<00:00, 30.97it/s]\n",
            "rtf_avg: 0.097: 100%|\u001b[34m██████████\u001b[0m| 1/1 [00:00<00:00, 39.04it/s]\n",
            "rtf_avg: 0.090: 100%|\u001b[34m██████████\u001b[0m| 1/1 [00:00<00:00, 43.79it/s]\n",
            "rtf_avg: 0.125: 100%|\u001b[34m██████████\u001b[0m| 1/1 [00:00<00:00, 33.64it/s]\n",
            "rtf_avg: 0.090: 100%|\u001b[34m██████████\u001b[0m| 1/1 [00:00<00:00, 40.86it/s]\n",
            "rtf_avg: 0.098: 100%|\u001b[34m██████████\u001b[0m| 1/1 [00:00<00:00, 41.90it/s]\n",
            "rtf_avg: 0.077: 100%|\u001b[34m██████████\u001b[0m| 1/1 [00:00<00:00, 42.74it/s]\n",
            "rtf_avg: 0.104: 100%|\u001b[34m██████████\u001b[0m| 1/1 [00:00<00:00, 39.12it/s]\n",
            "rtf_avg: 0.116: 100%|\u001b[34m██████████\u001b[0m| 1/1 [00:00<00:00, 34.62it/s]\n",
            "rtf_avg: 0.089: 100%|\u001b[34m██████████\u001b[0m| 1/1 [00:00<00:00, 43.52it/s]\n",
            "rtf_avg: 0.079: 100%|\u001b[34m██████████\u001b[0m| 1/1 [00:00<00:00, 38.08it/s]\n",
            "rtf_avg: 0.089: 100%|\u001b[34m██████████\u001b[0m| 1/1 [00:00<00:00, 38.57it/s]\n",
            "rtf_avg: 0.120: 100%|\u001b[34m██████████\u001b[0m| 1/1 [00:00<00:00, 30.29it/s]\n",
            "rtf_avg: 0.081: 100%|\u001b[34m██████████\u001b[0m| 1/1 [00:00<00:00, 45.62it/s]\n",
            "rtf_avg: 0.110: 100%|\u001b[34m██████████\u001b[0m| 1/1 [00:00<00:00, 33.98it/s]\n",
            "rtf_avg: 0.084: 100%|\u001b[34m██████████\u001b[0m| 1/1 [00:00<00:00, 43.26it/s]\n",
            "rtf_avg: 0.099: 100%|\u001b[34m██████████\u001b[0m| 1/1 [00:00<00:00, 35.41it/s]\n",
            "rtf_avg: 0.094: 100%|\u001b[34m██████████\u001b[0m| 1/1 [00:00<00:00, 41.28it/s]\n",
            "rtf_avg: 0.082: 100%|\u001b[34m██████████\u001b[0m| 1/1 [00:00<00:00, 37.39it/s]\n",
            "rtf_avg: 0.083: 100%|\u001b[34m██████████\u001b[0m| 1/1 [00:00<00:00, 43.93it/s]\n",
            "rtf_avg: 0.122: 100%|\u001b[34m██████████\u001b[0m| 1/1 [00:00<00:00, 32.67it/s]\n",
            "rtf_avg: 0.082: 100%|\u001b[34m██████████\u001b[0m| 1/1 [00:00<00:00, 44.55it/s]\n",
            "rtf_avg: 0.107: 100%|\u001b[34m██████████\u001b[0m| 1/1 [00:00<00:00, 36.85it/s]\n",
            "rtf_avg: 0.102: 100%|\u001b[34m██████████\u001b[0m| 1/1 [00:00<00:00, 37.16it/s]\n",
            "rtf_avg: 0.141: 100%|\u001b[34m██████████\u001b[0m| 1/1 [00:00<00:00, 27.01it/s]\n",
            "rtf_avg: 0.115: 100%|\u001b[34m██████████\u001b[0m| 1/1 [00:00<00:00, 35.47it/s]\n",
            "rtf_avg: 0.107: 100%|\u001b[34m██████████\u001b[0m| 1/1 [00:00<00:00, 37.33it/s]\n",
            "rtf_avg: 0.084: 100%|\u001b[34m██████████\u001b[0m| 1/1 [00:00<00:00, 42.21it/s]\n",
            "rtf_avg: 0.506: 100%|\u001b[34m██████████\u001b[0m| 1/1 [00:00<00:00, 19.31it/s]"
          ]
        },
        {
          "output_type": "stream",
          "name": "stdout",
          "text": [
            "[{'key': 'rand_key_CuyGdw13yVUyJ', 'value': [[-1, 70450]]}]\n"
          ]
        },
        {
          "output_type": "stream",
          "name": "stderr",
          "text": [
            "\n"
          ]
        }
      ],
      "source": [
        "from funasr import AutoModel\n",
        "\n",
        "chunk_size = 200 # ms\n",
        "model = AutoModel(model=\"fsmn-vad\", model_revision=\"v2.0.4\")\n",
        "\n",
        "import soundfile\n",
        "\n",
        "wav_file = f\"{model.model_path}/example/vad_example.wav\"\n",
        "speech, sample_rate = soundfile.read(wav_file)\n",
        "chunk_stride = int(chunk_size * sample_rate / 1000)\n",
        "\n",
        "cache = {}\n",
        "total_chunk_num = int(len((speech)-1)/chunk_stride+1)\n",
        "for i in range(total_chunk_num):\n",
        "    speech_chunk = speech[i*chunk_stride:(i+1)*chunk_stride]\n",
        "    is_final = i == total_chunk_num - 1\n",
        "    res = model.generate(input=speech_chunk, cache=cache, is_final=is_final, chunk_size=chunk_size)\n",
        "    if len(res[0][\"value\"]):\n",
        "        print(res)"
      ]
    },
    {
      "cell_type": "markdown",
      "metadata": {
        "id": "SxaEwRa2imV5"
      },
      "source": [
        "# **Run with onnx demo**"
      ]
    },
    {
      "cell_type": "markdown",
      "source": [
        "**No-streaming**"
      ],
      "metadata": {
        "id": "rZUW8Ew09zpD"
      }
    },
    {
      "cell_type": "code",
      "execution_count": 10,
      "metadata": {
        "id": "CeqJnDdFqqpC",
        "colab": {
          "base_uri": "https://localhost:8080/"
        },
        "outputId": "d1dc34de-0cdb-47b0-8288-2964c77ccb81"
      },
      "outputs": [
        {
          "output_type": "stream",
          "name": "stderr",
          "text": [
            "2024-08-27 04:19:28,281 - modelscope - WARNING - Model revision not specified, use revision: v2.0.4\n",
            "Downloading: 100%|██████████| 10.9k/10.9k [00:00<00:00, 14.8kB/s]\n",
            "Downloading: 100%|██████████| 173k/173k [00:01<00:00, 172kB/s]\n",
            "Downloading: 100%|██████████| 2.45k/2.45k [00:00<00:00, 3.19kB/s]\n",
            "Downloading: 100%|██████████| 472/472 [00:01<00:00, 427B/s]\n",
            "Downloading: 100%|██████████| 840M/840M [00:11<00:00, 73.8MB/s]\n",
            "Downloading: 100%|██████████| 19.1k/19.1k [00:00<00:00, 22.5kB/s]\n",
            "Downloading: 100%|██████████| 7.90M/7.90M [00:01<00:00, 7.24MB/s]\n",
            "Downloading: 100%|██████████| 48.7k/48.7k [00:00<00:00, 58.1kB/s]\n",
            "Downloading: 100%|██████████| 91.5k/91.5k [00:01<00:00, 83.7kB/s]\n"
          ]
        },
        {
          "output_type": "stream",
          "name": "stdout",
          "text": [
            ".onnx does not exist, begin to export onnx\n",
            "funasr version: 1.1.6.\n",
            "Check update of funasr, and it would cost few times. You may disable it by set `disable_update=True` in AutoModel\n",
            "You are using the latest version of funasr-1.1.6\n"
          ]
        },
        {
          "output_type": "stream",
          "name": "stderr",
          "text": [
            "/usr/local/lib/python3.10/dist-packages/funasr/models/transformer/embedding.py:395: TracerWarning: torch.tensor results are registered as constants in the trace. You can safely ignore this warning if you use this function to create tensors out of constant variables that would be the same every time you call this function. In any other case, this might cause the trace to be incorrect.\n",
            "  log_timescale_increment = torch.log(torch.tensor([10000], dtype=dtype, device=device)) / (\n",
            "/usr/local/lib/python3.10/dist-packages/torch/onnx/utils.py:631: UserWarning: ONNX Preprocess - Removing mutation from node aten::add_ on block input: 'frame.17'. This changes graph semantics. (Triggered internally at ../torch/csrc/jit/passes/onnx/remove_inplace_ops_for_onnx.cpp:350.)\n",
            "  _C._jit_pass_onnx_remove_inplace_ops_for_onnx(graph, module)\n",
            "/usr/local/lib/python3.10/dist-packages/torch/onnx/utils.py:631: UserWarning: ONNX Preprocess - Removing mutation from node aten::add_ on block input: 'integrate.23'. This changes graph semantics. (Triggered internally at ../torch/csrc/jit/passes/onnx/remove_inplace_ops_for_onnx.cpp:350.)\n",
            "  _C._jit_pass_onnx_remove_inplace_ops_for_onnx(graph, module)\n",
            "/usr/local/lib/python3.10/dist-packages/torch/onnx/_internal/jit_utils.py:307: UserWarning: Constant folding - Only steps=1 can be constant folded for opset >= 10 onnx::Slice op. Constant folding not applied. (Triggered internally at ../torch/csrc/jit/passes/onnx/constant_fold.cpp:179.)\n",
            "  _C._jit_pass_onnx_node_shape_type_inference(node, params_dict, opset_version)\n",
            "/usr/local/lib/python3.10/dist-packages/torch/onnx/utils.py:702: UserWarning: Constant folding - Only steps=1 can be constant folded for opset >= 10 onnx::Slice op. Constant folding not applied. (Triggered internally at ../torch/csrc/jit/passes/onnx/constant_fold.cpp:179.)\n",
            "  _C._jit_pass_onnx_graph_shape_type_inference(\n",
            "/usr/local/lib/python3.10/dist-packages/torch/onnx/utils.py:1208: UserWarning: Constant folding - Only steps=1 can be constant folded for opset >= 10 onnx::Slice op. Constant folding not applied. (Triggered internally at ../torch/csrc/jit/passes/onnx/constant_fold.cpp:179.)\n",
            "  _C._jit_pass_onnx_graph_shape_type_inference(\n"
          ]
        },
        {
          "output_type": "stream",
          "name": "stdout",
          "text": [
            "Quantizing model from /root/.cache/modelscope/hub/damo/speech_paraformer-large_asr_nat-zh-cn-16k-common-vocab8404-pytorch/model.onnx to /root/.cache/modelscope/hub/damo/speech_paraformer-large_asr_nat-zh-cn-16k-common-vocab8404-pytorch/model_quant.onnx\n"
          ]
        },
        {
          "output_type": "stream",
          "name": "stderr",
          "text": [
            "WARNING:root:Please consider to run pre-processing before quantization. Refer to example: https://github.com/microsoft/onnxruntime-inference-examples/blob/main/quantization/image_classification/cpu/ReadMe.md \n"
          ]
        },
        {
          "output_type": "stream",
          "name": "stdout",
          "text": [
            "output dir: /root/.cache/modelscope/hub/damo/speech_paraformer-large_asr_nat-zh-cn-16k-common-vocab8404-pytorch\n",
            "[{'preds': ('欢迎大家来体验达摩院推出的语音识别模型', ['欢', '迎', '大', '家', '来', '体', '验', '达', '摩', '院', '推', '出', '的', '语', '音', '识', '别', '模', '型'])}]\n"
          ]
        }
      ],
      "source": [
        "from funasr_onnx import Paraformer\n",
        "from pathlib import Path\n",
        "\n",
        "model_dir = \"damo/speech_paraformer-large_asr_nat-zh-cn-16k-common-vocab8404-pytorch\"\n",
        "# model_dir = \"damo/speech_paraformer-large-vad-punc_asr_nat-zh-cn-16k-common-vocab8404-pytorch\"\n",
        "model = Paraformer(model_dir, batch_size=1, quantize=True, disable_update=True)\n",
        "# model = Paraformer(model_dir, batch_size=1, device_id=0)  # gpu\n",
        "\n",
        "# when using paraformer-large-vad-punc model, you can set plot_timestamp_to=\"./xx.png\" to get figure of alignment besides timestamps\n",
        "# model = Paraformer(model_dir, batch_size=1, plot_timestamp_to=\"test.png\")\n",
        "\n",
        "wav_path = [\"{}/.cache/modelscope/hub/{}/example/asr_example.wav\".format(Path.home(), model_dir)]\n",
        "\n",
        "result = model(wav_path)\n",
        "print(result)"
      ]
    },
    {
      "cell_type": "code",
      "source": [
        "!ls -alt ~/.cache/modelscope/hub/damo/\n",
        "!ls -lat ~/.cache/modelscope/hub/damo/speech_paraformer-large_asr_nat-zh-cn-16k-common-vocab8404-pytorch\n",
        "!ls -lat ~/.cache/modelscope/hub/damo/speech_paraformer-large_asr_nat-zh-cn-16k-common-vocab8404-pytorch/example"
      ],
      "metadata": {
        "id": "TjYFsYK00wrW"
      },
      "execution_count": null,
      "outputs": []
    },
    {
      "cell_type": "markdown",
      "source": [
        "**FSMN-VAD**"
      ],
      "metadata": {
        "id": "0BWeeZLz2mXp"
      }
    },
    {
      "cell_type": "code",
      "source": [
        "from funasr_onnx import Fsmn_vad\n",
        "from pathlib import Path\n",
        "\n",
        "model_dir = \"damo/speech_fsmn_vad_zh-cn-16k-common-pytorch\"\n",
        "wav_path = '{}/.cache/modelscope/hub/damo/speech_fsmn_vad_zh-cn-16k-common-pytorch/example/vad_example.wav'.format(Path.home())\n",
        "\n",
        "model = Fsmn_vad(model_dir, quantize=True)\n",
        "\n",
        "result = model(wav_path)\n",
        "print(result)"
      ],
      "metadata": {
        "colab": {
          "base_uri": "https://localhost:8080/"
        },
        "id": "ELyWfZUN0J24",
        "outputId": "4e11b6a9-e69c-4990-ae0e-e812c8dca839"
      },
      "execution_count": 11,
      "outputs": [
        {
          "output_type": "stream",
          "name": "stderr",
          "text": [
            "2024-08-27 04:23:44,560 - modelscope - WARNING - Model revision not specified, use revision: v2.0.4\n",
            "Downloading: 100%|██████████| 7.85k/7.85k [00:00<00:00, 9.70kB/s]\n",
            "Downloading: 100%|██████████| 1.19k/1.19k [00:00<00:00, 1.45kB/s]\n",
            "Downloading: 100%|██████████| 365/365 [00:00<00:00, 499B/s]\n",
            "Downloading: 100%|██████████| 1.64M/1.64M [00:00<00:00, 1.76MB/s]\n",
            "Downloading: 100%|██████████| 8.45k/8.45k [00:00<00:00, 11.5kB/s]\n",
            "Downloading: 100%|██████████| 27.3k/27.3k [00:00<00:00, 34.6kB/s]\n",
            "Downloading: 100%|██████████| 2.16M/2.16M [00:01<00:00, 2.09MB/s]\n"
          ]
        },
        {
          "output_type": "stream",
          "name": "stdout",
          "text": [
            ".onnx does not exist, begin to export onnx\n",
            "funasr version: 1.1.6.\n",
            "Check update of funasr, and it would cost few times. You may disable it by set `disable_update=True` in AutoModel\n",
            "You are using the latest version of funasr-1.1.6\n"
          ]
        },
        {
          "output_type": "stream",
          "name": "stderr",
          "text": [
            "WARNING:root:Please consider to run pre-processing before quantization. Refer to example: https://github.com/microsoft/onnxruntime-inference-examples/blob/main/quantization/image_classification/cpu/ReadMe.md \n"
          ]
        },
        {
          "output_type": "stream",
          "name": "stdout",
          "text": [
            "Quantizing model from /root/.cache/modelscope/hub/damo/speech_fsmn_vad_zh-cn-16k-common-pytorch/model.onnx to /root/.cache/modelscope/hub/damo/speech_fsmn_vad_zh-cn-16k-common-pytorch/model_quant.onnx\n",
            "output dir: /root/.cache/modelscope/hub/damo/speech_fsmn_vad_zh-cn-16k-common-pytorch\n",
            "[[[70, 2340], [2620, 6200], [6480, 23670], [23950, 26250], [26780, 28990], [29960, 31430], [31750, 37600], [38210, 46900], [47310, 49630], [49910, 56460], [56740, 59550], [59830, 70450]]]\n"
          ]
        }
      ]
    },
    {
      "cell_type": "code",
      "execution_count": null,
      "metadata": {
        "id": "qUz7GtjjsbXQ"
      },
      "outputs": [],
      "source": [
        "!ls -alt ~/.cache/modelscope/hub/damo/\n",
        "!ls -lat ~/.cache/modelscope/hub/damo/speech_fsmn_vad_zh-cn-16k-common-pytorch\n",
        "!ls -lat ~/.cache/modelscope/hub/damo/speech_fsmn_vad_zh-cn-16k-common-pytorch/example"
      ]
    },
    {
      "cell_type": "markdown",
      "source": [
        "**FSMN-VAD-online**"
      ],
      "metadata": {
        "id": "iYI7Efpc2soV"
      }
    },
    {
      "cell_type": "code",
      "source": [
        "from funasr_onnx import Fsmn_vad_online\n",
        "import soundfile\n",
        "from pathlib import Path\n",
        "\n",
        "model_dir = \"damo/speech_fsmn_vad_zh-cn-16k-common-pytorch\"\n",
        "wav_path = '{}/.cache/modelscope/hub/damo/speech_fsmn_vad_zh-cn-16k-common-pytorch/example/vad_example.wav'.format(Path.home())\n",
        "\n",
        "model = Fsmn_vad_online(model_dir)\n",
        "\n",
        "\n",
        "##online vad\n",
        "speech, sample_rate = soundfile.read(wav_path)\n",
        "speech_length = speech.shape[0]\n",
        "#\n",
        "sample_offset = 0\n",
        "step = 1600\n",
        "param_dict = {'in_cache': []}\n",
        "for sample_offset in range(0, speech_length, min(step, speech_length - sample_offset)):\n",
        "    if sample_offset + step >= speech_length - 1:\n",
        "        step = speech_length - sample_offset\n",
        "        is_final = True\n",
        "    else:\n",
        "        is_final = False\n",
        "    param_dict['is_final'] = is_final\n",
        "    segments_result = model(audio_in=speech[sample_offset: sample_offset + step],\n",
        "                            param_dict=param_dict)\n",
        "    if segments_result:\n",
        "        print(segments_result)"
      ],
      "metadata": {
        "colab": {
          "base_uri": "https://localhost:8080/"
        },
        "id": "qoB-5i34P7oX",
        "outputId": "ee27023f-7a0a-471f-b351-43cfb7f1aa81"
      },
      "execution_count": 12,
      "outputs": [
        {
          "output_type": "stream",
          "name": "stderr",
          "text": [
            "2024-08-27 04:23:53,699 - modelscope - WARNING - Model revision not specified, use revision: v2.0.4\n"
          ]
        },
        {
          "output_type": "stream",
          "name": "stdout",
          "text": [
            "[[[70, -1]]]\n",
            "[[[-1, 2340]]]\n",
            "[[[2620, -1]]]\n",
            "[[[-1, 6200]]]\n",
            "[[[6480, -1]]]\n",
            "[[[-1, 23670]]]\n",
            "[[[23950, -1]]]\n",
            "[[[-1, 26250]]]\n",
            "[[[26780, -1]]]\n",
            "[[[-1, 28990]]]\n",
            "[[[29950, -1]]]\n",
            "[[[-1, 31430]]]\n",
            "[[[31750, -1]]]\n",
            "[[[-1, 37600]]]\n",
            "[[[38210, -1]]]\n",
            "[[[-1, 46900]]]\n",
            "[[[47310, -1]]]\n",
            "[[[-1, 49630]]]\n",
            "[[[49910, -1]]]\n",
            "[[[-1, 56460]]]\n",
            "[[[56740, -1]]]\n",
            "[[[-1, 59540]]]\n",
            "[[[59820, -1]]]\n",
            "[[[-1, 70450]]]\n"
          ]
        }
      ]
    },
    {
      "cell_type": "code",
      "source": [
        "!ls -alt ~/.cache/modelscope/hub/damo/\n",
        "!ls -lat ~/.cache/modelscope/hub/damo/speech_fsmn_vad_zh-cn-16k-common-pytorch\n",
        "!ls -lat ~/.cache/modelscope/hub/damo/speech_fsmn_vad_zh-cn-16k-common-pytorch/example"
      ],
      "metadata": {
        "id": "9etU97QQ3OUW"
      },
      "execution_count": null,
      "outputs": []
    },
    {
      "cell_type": "markdown",
      "source": [
        "**CT-Transformer**"
      ],
      "metadata": {
        "id": "LDKQXOU72zWs"
      }
    },
    {
      "cell_type": "code",
      "execution_count": 13,
      "metadata": {
        "id": "xIIOGXOHumGr",
        "colab": {
          "base_uri": "https://localhost:8080/"
        },
        "outputId": "9c70c01c-92ea-4a2c-fa31-ac7814f9878c"
      },
      "outputs": [
        {
          "output_type": "stream",
          "name": "stderr",
          "text": [
            "2024-08-27 04:24:00,799 - modelscope - WARNING - Model revision not specified, use revision: v2.0.4\n",
            "Downloading: 100%|██████████| 6.00k/6.00k [00:00<00:00, 8.25kB/s]\n",
            "Downloading: 100%|██████████| 810/810 [00:00<00:00, 1.16kB/s]\n",
            "Downloading: 100%|██████████| 373/373 [00:01<00:00, 304B/s]\n",
            "Downloading: 100%|██████████| 278M/278M [00:07<00:00, 39.8MB/s]\n",
            "Downloading: 100%|██████████| 863/863 [00:00<00:00, 1.04kB/s]\n",
            "Downloading: 100%|██████████| 11.2k/11.2k [00:00<00:00, 16.2kB/s]\n",
            "Downloading: 100%|██████████| 151k/151k [00:00<00:00, 166kB/s]\n",
            "Downloading: 100%|██████████| 4.01M/4.01M [00:01<00:00, 2.89MB/s]\n"
          ]
        },
        {
          "output_type": "stream",
          "name": "stdout",
          "text": [
            ".onnx does not exist, begin to export onnx\n",
            "funasr version: 1.1.6.\n",
            "Check update of funasr, and it would cost few times. You may disable it by set `disable_update=True` in AutoModel\n",
            "You are using the latest version of funasr-1.1.6\n"
          ]
        },
        {
          "output_type": "stream",
          "name": "stderr",
          "text": [
            "/usr/local/lib/python3.10/dist-packages/funasr/models/transformer/embedding.py:395: TracerWarning: torch.tensor results are registered as constants in the trace. You can safely ignore this warning if you use this function to create tensors out of constant variables that would be the same every time you call this function. In any other case, this might cause the trace to be incorrect.\n",
            "  log_timescale_increment = torch.log(torch.tensor([10000], dtype=dtype, device=device)) / (\n",
            "/usr/local/lib/python3.10/dist-packages/torch/onnx/_internal/jit_utils.py:307: UserWarning: Constant folding - Only steps=1 can be constant folded for opset >= 10 onnx::Slice op. Constant folding not applied. (Triggered internally at ../torch/csrc/jit/passes/onnx/constant_fold.cpp:179.)\n",
            "  _C._jit_pass_onnx_node_shape_type_inference(node, params_dict, opset_version)\n",
            "/usr/local/lib/python3.10/dist-packages/torch/onnx/utils.py:702: UserWarning: Constant folding - Only steps=1 can be constant folded for opset >= 10 onnx::Slice op. Constant folding not applied. (Triggered internally at ../torch/csrc/jit/passes/onnx/constant_fold.cpp:179.)\n",
            "  _C._jit_pass_onnx_graph_shape_type_inference(\n",
            "/usr/local/lib/python3.10/dist-packages/torch/onnx/utils.py:1208: UserWarning: Constant folding - Only steps=1 can be constant folded for opset >= 10 onnx::Slice op. Constant folding not applied. (Triggered internally at ../torch/csrc/jit/passes/onnx/constant_fold.cpp:179.)\n",
            "  _C._jit_pass_onnx_graph_shape_type_inference(\n"
          ]
        },
        {
          "output_type": "stream",
          "name": "stdout",
          "text": [
            "Quantizing model from /root/.cache/modelscope/hub/damo/punc_ct-transformer_zh-cn-common-vocab272727-pytorch/model.onnx to /root/.cache/modelscope/hub/damo/punc_ct-transformer_zh-cn-common-vocab272727-pytorch/model_quant.onnx\n"
          ]
        },
        {
          "output_type": "stream",
          "name": "stderr",
          "text": [
            "WARNING:root:Please consider to run pre-processing before quantization. Refer to example: https://github.com/microsoft/onnxruntime-inference-examples/blob/main/quantization/image_classification/cpu/ReadMe.md \n"
          ]
        },
        {
          "output_type": "stream",
          "name": "stdout",
          "text": [
            "output dir: /root/.cache/modelscope/hub/damo/punc_ct-transformer_zh-cn-common-vocab272727-pytorch\n",
            "跨境河流是养育沿岸人民的生命之源。长期以来，为帮助下游地区防灾减灾。中方技术人员在上游地区极为恶劣的自然条件下克服巨大困难，甚至冒着生命危险，向印方提供汛期水文资料处理紧急事件，中方重视印方在跨境河流问题上的关切，愿意进一步完善双方联合工作机制。凡是中方能做的，我们都会去做，而且会做得更好。我请印度朋友们放心中国在上游的任何开发利用，都会经过科学规划和论证，兼顾上下游的利益。\n"
          ]
        }
      ],
      "source": [
        "from funasr_onnx import CT_Transformer\n",
        "\n",
        "model_dir = \"damo/punc_ct-transformer_zh-cn-common-vocab272727-pytorch\"\n",
        "model = CT_Transformer(model_dir, quantize=True)\n",
        "\n",
        "text_in=\"跨境河流是养育沿岸人民的生命之源长期以来为帮助下游地区防灾减灾中方技术人员在上游地区极为恶劣的自然条件下克服巨大困难甚至冒着生命危险向印方提供汛期水文资料处理紧急事件中方重视印方在跨境河流问题上的关切愿意进一步完善双方联合工作机制凡是中方能做的我们都会去做而且会做得更好我请印度朋友们放心中国在上游的任何开发利用都会经过科学规划和论证兼顾上下游的利益\"\n",
        "result = model(text_in)\n",
        "print(result[0])"
      ]
    },
    {
      "cell_type": "code",
      "source": [
        "!ls -alt ~/.cache/modelscope/hub/damo/\n",
        "!ls -lat ~/.cache/modelscope/hub/damo/punc_ct-transformer_zh-cn-common-vocab272727-pytorch\n",
        "!ls -lat ~/.cache/modelscope/hub/damo/punc_ct-transformer_zh-cn-common-vocab272727-pytorch/example"
      ],
      "metadata": {
        "id": "z7vE6hHi3Sn4"
      },
      "execution_count": null,
      "outputs": []
    },
    {
      "cell_type": "markdown",
      "source": [
        "**CT-Transformer-online**"
      ],
      "metadata": {
        "id": "uINUiHOh2-Id"
      }
    },
    {
      "cell_type": "code",
      "source": [
        "from funasr_onnx import CT_Transformer_VadRealtime\n",
        "\n",
        "model_dir = \"damo/punc_ct-transformer_zh-cn-common-vad_realtime-vocab272727\"\n",
        "model = CT_Transformer_VadRealtime(model_dir, quantize=True)\n",
        "\n",
        "text_in  = \"跨境河流是养育沿岸|人民的生命之源长期以来为帮助下游地区防灾减灾中方技术人员|在上游地区极为恶劣的自然条件下克服巨大困难甚至冒着生命危险|向印方提供汛期水文资料处理紧急事件中方重视印方在跨境河流>问题上的关切|愿意进一步完善双方联合工作机制|凡是|中方能做的我们|都会去做而且会做得更好我请印度朋友们放心中国在上游的|任何开发利用都会经过科学|规划和论证兼顾上下游的利益\"\n",
        "\n",
        "vads = text_in.split(\"|\")\n",
        "rec_result_all=\"\"\n",
        "param_dict = {\"cache\": []}\n",
        "for vad in vads:\n",
        "    result = model(vad, param_dict=param_dict)\n",
        "    rec_result_all += result[0]\n",
        "\n",
        "print(rec_result_all)"
      ],
      "metadata": {
        "colab": {
          "base_uri": "https://localhost:8080/"
        },
        "id": "xWArKOCx3AF6",
        "outputId": "d682695a-c6be-4752-80b3-3486ba43a3b0"
      },
      "execution_count": 15,
      "outputs": [
        {
          "output_type": "stream",
          "name": "stderr",
          "text": [
            "2024-08-27 04:24:34,702 - modelscope - WARNING - Model revision not specified, use revision: v2.0.4\n",
            "Downloading: 100%|██████████| 822/822 [00:00<00:00, 1.13kB/s]\n",
            "Downloading: 100%|██████████| 377/377 [00:00<00:00, 516B/s]\n",
            "Downloading: 100%|██████████| 275M/275M [00:07<00:00, 39.9MB/s]\n",
            "Downloading: 100%|██████████| 10.5k/10.5k [00:00<00:00, 11.8kB/s]\n",
            "Downloading: 100%|██████████| 4.01M/4.01M [00:01<00:00, 4.13MB/s]\n"
          ]
        },
        {
          "output_type": "stream",
          "name": "stdout",
          "text": [
            ".onnx does not exist, begin to export onnx\n",
            "funasr version: 1.1.6.\n",
            "Check update of funasr, and it would cost few times. You may disable it by set `disable_update=True` in AutoModel\n",
            "You are using the latest version of funasr-1.1.6\n",
            "Quantizing model from /root/.cache/modelscope/hub/damo/punc_ct-transformer_zh-cn-common-vad_realtime-vocab272727/model.onnx to /root/.cache/modelscope/hub/damo/punc_ct-transformer_zh-cn-common-vad_realtime-vocab272727/model_quant.onnx\n"
          ]
        },
        {
          "output_type": "stream",
          "name": "stderr",
          "text": [
            "WARNING:root:Please consider to run pre-processing before quantization. Refer to example: https://github.com/microsoft/onnxruntime-inference-examples/blob/main/quantization/image_classification/cpu/ReadMe.md \n"
          ]
        },
        {
          "output_type": "stream",
          "name": "stdout",
          "text": [
            "output dir: /root/.cache/modelscope/hub/damo/punc_ct-transformer_zh-cn-common-vad_realtime-vocab272727\n",
            "跨境河流是养育沿岸人民的生命之源。长期以来，为帮助下游地区防灾减灾，中方技术人员在上游地区极为恶劣的自然条件下，克服巨大困难，甚至冒着生命危险向印方提供汛期水文资料处理紧急事件。中方重视印方在跨境河流>问题上的关切，愿意进一步完善双方联合工作机制。凡是中方能做的我们都会去做，而且会做得更好。我请印度朋友们放心，中国在上游的任何开发利用都会经过科学规划和论证，兼顾上下游的利益\n"
          ]
        }
      ]
    },
    {
      "cell_type": "code",
      "source": [
        "!ls -alt ~/.cache/modelscope/hub/damo/\n",
        "!ls -lat ~/.cache/modelscope/hub/damo/punc_ct-transformer_zh-cn-common-vad_realtime-vocab272727\n",
        "!ls -lat ~/.cache/modelscope/hub/damo/punc_ct-transformer_zh-cn-common-vad_realtime-vocab272727/example"
      ],
      "metadata": {
        "id": "-uQWest63fp6"
      },
      "execution_count": null,
      "outputs": []
    },
    {
      "cell_type": "markdown",
      "source": [
        "**Check models**"
      ],
      "metadata": {
        "id": "HLLSubAEDZDG"
      }
    },
    {
      "cell_type": "code",
      "source": [
        "!ls -alt ~/.cache/modelscope/hub/damo/"
      ],
      "metadata": {
        "colab": {
          "base_uri": "https://localhost:8080/"
        },
        "id": "2fxlgSn-Dcdk",
        "outputId": "4af24360-d5c9-4bf6-c292-7a1831d2096c"
      },
      "execution_count": 16,
      "outputs": [
        {
          "output_type": "stream",
          "name": "stdout",
          "text": [
            "total 24\n",
            "drwxr-xr-x 2 root root 4096 Aug 27 04:25 punc_ct-transformer_zh-cn-common-vad_realtime-vocab272727\n",
            "drwxr-xr-x 6 root root 4096 Aug 27 04:24 .\n",
            "drwxr-xr-x 4 root root 4096 Aug 27 04:24 punc_ct-transformer_zh-cn-common-vocab272727-pytorch\n",
            "drwxr-xr-x 4 root root 4096 Aug 27 04:23 speech_fsmn_vad_zh-cn-16k-common-pytorch\n",
            "drwxr-xr-x 4 root root 4096 Aug 27 04:23 speech_paraformer-large_asr_nat-zh-cn-16k-common-vocab8404-pytorch\n",
            "drwxr-xr-x 5 root root 4096 Aug 27 04:19 ..\n"
          ]
        }
      ]
    },
    {
      "cell_type": "markdown",
      "source": [
        "# **Back models to googledrive**"
      ],
      "metadata": {
        "id": "3F6e1COjDLf9"
      }
    },
    {
      "cell_type": "code",
      "execution_count": null,
      "metadata": {
        "id": "RYsdfUzImQP5"
      },
      "outputs": [],
      "source": [
        "from google.colab import drive\n",
        "drive.mount('/content/gd/')"
      ]
    },
    {
      "cell_type": "code",
      "execution_count": null,
      "metadata": {
        "id": "hMcLLWFHmqmY"
      },
      "outputs": [],
      "source": [
        "!mkdir /content/gd/MyDrive/SenseVoice"
      ]
    },
    {
      "cell_type": "code",
      "source": [
        "!ls -alt /content/gd/MyDrive/SenseVoice"
      ],
      "metadata": {
        "id": "efzv40cb1zFi"
      },
      "execution_count": null,
      "outputs": []
    },
    {
      "cell_type": "code",
      "source": [
        "!rm -rf /content/gd/MyDrive/SenseVoice/*"
      ],
      "metadata": {
        "id": "vITFDTYo1s05"
      },
      "execution_count": null,
      "outputs": []
    },
    {
      "cell_type": "code",
      "execution_count": null,
      "metadata": {
        "id": "6uCgCFa7maGW"
      },
      "outputs": [],
      "source": [
        "!cp -rf ~/.cache/modelscope/hub/damo/speech_paraformer-large_asr_nat-zh-cn-16k-common-vocab8404-pytorch /content/gd/MyDrive/SenseVoice/\n",
        "!cp -rf ~/.cache/modelscope/hub/damo/speech_fsmn_vad_zh-cn-16k-common-pytorch /content/gd/MyDrive/SenseVoice/\n",
        "!cp -rf ~/.cache/modelscope/hub/damo/punc_ct-transformer_zh-cn-common-vocab272727-pytorch /content/gd/MyDrive/SenseVoice/\n",
        "!cp -rf ~/.cache/modelscope/hub/damo/punc_ct-transformer_zh-cn-common-vad_realtime-vocab272727 /content/gd/MyDrive/SenseVoice/"
      ]
    }
  ],
  "metadata": {
    "colab": {
      "provenance": [],
      "authorship_tag": "ABX9TyMT44W9+pMNaTGWUhVKi0fz"
    },
    "kernelspec": {
      "display_name": "Python 3",
      "name": "python3"
    },
    "language_info": {
      "name": "python"
    }
  },
  "nbformat": 4,
  "nbformat_minor": 0
}